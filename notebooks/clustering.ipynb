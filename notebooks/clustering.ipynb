{
 "cells": [
  {
   "cell_type": "code",
   "execution_count": 1,
   "metadata": {},
   "outputs": [],
   "source": [
    "import pickle\n",
    "import pandas as pd\n",
    "import seaborn as sns\n",
    "# Enabling the `widget` backend.\n",
    "# This requires jupyter-matplotlib a.k.a. ipympl.\n",
    "# ipympl can be install via pip or conda.\n",
    "%matplotlib widget\n",
    "import matplotlib.pyplot as plt"
   ]
  },
  {
   "cell_type": "code",
   "execution_count": 2,
   "metadata": {},
   "outputs": [
    {
     "output_type": "stream",
     "name": "stderr",
     "text": [
      "C:\\Users\\caloja\\AppData\\Local\\Programs\\Python\\Python37\\lib\\site-packages\\IPython\\core\\interactiveshell.py:3166: DtypeWarning: Columns (53) have mixed types.Specify dtype option on import or set low_memory=False.\n",
      "  interactivity=interactivity, compiler=compiler, result=result)\n",
      "C:\\Users\\caloja\\AppData\\Local\\Programs\\Python\\Python37\\lib\\site-packages\\IPython\\core\\interactiveshell.py:3166: DtypeWarning: Columns (43) have mixed types.Specify dtype option on import or set low_memory=False.\n",
      "  interactivity=interactivity, compiler=compiler, result=result)\n",
      "C:\\Users\\caloja\\AppData\\Local\\Programs\\Python\\Python37\\lib\\site-packages\\IPython\\core\\interactiveshell.py:3166: DtypeWarning: Columns (16,43,52) have mixed types.Specify dtype option on import or set low_memory=False.\n",
      "  interactivity=interactivity, compiler=compiler, result=result)\n"
     ]
    }
   ],
   "source": [
    "dfs=[]\n",
    "for i in [\"alimentation\",\"products\",\"services\"]:\n",
    "    file=pd.read_csv(f\"../files/own_dataset/dataset_{i}.csv\")\n",
    "    dfs.append(file)"
   ]
  },
  {
   "cell_type": "code",
   "execution_count": 39,
   "metadata": {},
   "outputs": [],
   "source": [
    "df_model=dfs[1]"
   ]
  },
  {
   "cell_type": "code",
   "execution_count": 40,
   "metadata": {},
   "outputs": [],
   "source": [
    "df_model=pd.get_dummies(df_model,columns=[\"estado\"])"
   ]
  },
  {
   "cell_type": "code",
   "execution_count": 41,
   "metadata": {},
   "outputs": [
    {
     "data": {
      "text/plain": [
       "Index(['negocio_id', 'nombre', 'direccion', 'ciudad', 'codigo_postal',\n",
       "       'latitud', 'longitud', 'estrellas', 'cantidad_reseñas', 'abierto',\n",
       "       'acepta_tarjeta_credito', 'tiene_parqueo_bicicletas',\n",
       "       'adecuado_para_niños', 'parqueo', 'solo_con_cita', 'rango_precios',\n",
       "       'categorias', 'atencion_lunes_x', 'atencion_martes_x',\n",
       "       'atencion_miercoles_x', 'atencion_jueves_x', 'atencion_viernes_x',\n",
       "       'atencion_sabado_x', 'atencion_domingo_x', 'permite_perros',\n",
       "       'tiene_wifi', 'codigo_de_vestimenta', 'para_llevar', 'nivel_de_ruido',\n",
       "       'acepta_reservaciones', 'adecuado_para_grupos', 'tiene_tv',\n",
       "       'vende_alcohol', 'entregas_a_domicilio', 'mesas_al_aire_libre',\n",
       "       'tiene_mesero', 'adecuado_para_sillas_de_ruedas', 'acepta_seguro',\n",
       "       'ambiente', 'adecuado_para_comer', 'tiene_happy_hour', 'acepta_bitcoin',\n",
       "       'acepta_llevar_bebida_propia', 'adecuado_para_bailar',\n",
       "       'tiene_guardarropa', 'mejores_noches', 'musica', 'permite_fumar',\n",
       "       'restriccion_dietas', 'tiene_drive_thru', 'especialidades_en_peinado',\n",
       "       'edad_permitida', 'servcio_en_la_barra', 'abierto_24_horas',\n",
       "       'max_min_estrellas', 'max_min_resenas', 'Sentiment', 'metrica_exito',\n",
       "       'atencion_lunes_y', 'atencion_martes_y', 'atencion_miercoles_y',\n",
       "       'atencion_jueves_y', 'atencion_viernes_y', 'atencion_sabado_y',\n",
       "       'atencion_domingo_y', 'week_days', 'weekend_days', 'max_interval',\n",
       "       'open_morning', 'open_after', 'open_night', 'estado_AB', 'estado_AL',\n",
       "       'estado_AZ', 'estado_CA', 'estado_CT', 'estado_IL', 'estado_NC',\n",
       "       'estado_NV', 'estado_NY', 'estado_OH', 'estado_ON', 'estado_PA',\n",
       "       'estado_QC', 'estado_SC', 'estado_WI'],\n",
       "      dtype='object')"
      ]
     },
     "execution_count": 41,
     "metadata": {},
     "output_type": "execute_result"
    }
   ],
   "source": [
    "df_model.columns"
   ]
  },
  {
   "cell_type": "code",
   "execution_count": 42,
   "metadata": {},
   "outputs": [
    {
     "data": {
      "text/html": [
       "<div>\n",
       "<style scoped>\n",
       "    .dataframe tbody tr th:only-of-type {\n",
       "        vertical-align: middle;\n",
       "    }\n",
       "\n",
       "    .dataframe tbody tr th {\n",
       "        vertical-align: top;\n",
       "    }\n",
       "\n",
       "    .dataframe thead th {\n",
       "        text-align: right;\n",
       "    }\n",
       "</style>\n",
       "<table border=\"1\" class=\"dataframe\">\n",
       "  <thead>\n",
       "    <tr style=\"text-align: right;\">\n",
       "      <th></th>\n",
       "      <th>metrica_exito</th>\n",
       "      <th>weekend_days</th>\n",
       "      <th>max_min_estrellas</th>\n",
       "      <th>max_min_resenas</th>\n",
       "      <th>Sentiment</th>\n",
       "      <th>tiene_parqueo_bicicletas</th>\n",
       "      <th>open_night</th>\n",
       "      <th>parqueo</th>\n",
       "      <th>rango_precios</th>\n",
       "      <th>open_after</th>\n",
       "      <th>...</th>\n",
       "      <th>estado_CT</th>\n",
       "      <th>estado_IL</th>\n",
       "      <th>estado_NC</th>\n",
       "      <th>estado_NV</th>\n",
       "      <th>estado_OH</th>\n",
       "      <th>estado_ON</th>\n",
       "      <th>estado_PA</th>\n",
       "      <th>estado_QC</th>\n",
       "      <th>estado_SC</th>\n",
       "      <th>estado_WI</th>\n",
       "    </tr>\n",
       "  </thead>\n",
       "  <tbody>\n",
       "    <tr>\n",
       "      <th>0</th>\n",
       "      <td>0.555388</td>\n",
       "      <td>1</td>\n",
       "      <td>0.625</td>\n",
       "      <td>0.310345</td>\n",
       "      <td>0.906250</td>\n",
       "      <td>1.0</td>\n",
       "      <td>0</td>\n",
       "      <td>0.0</td>\n",
       "      <td>2</td>\n",
       "      <td>1</td>\n",
       "      <td>...</td>\n",
       "      <td>0</td>\n",
       "      <td>0</td>\n",
       "      <td>0</td>\n",
       "      <td>0</td>\n",
       "      <td>0</td>\n",
       "      <td>0</td>\n",
       "      <td>0</td>\n",
       "      <td>0</td>\n",
       "      <td>0</td>\n",
       "      <td>0</td>\n",
       "    </tr>\n",
       "    <tr>\n",
       "      <th>1</th>\n",
       "      <td>0.452000</td>\n",
       "      <td>1</td>\n",
       "      <td>0.250</td>\n",
       "      <td>0.500000</td>\n",
       "      <td>0.760000</td>\n",
       "      <td>NaN</td>\n",
       "      <td>0</td>\n",
       "      <td>0.0</td>\n",
       "      <td>3</td>\n",
       "      <td>1</td>\n",
       "      <td>...</td>\n",
       "      <td>0</td>\n",
       "      <td>0</td>\n",
       "      <td>0</td>\n",
       "      <td>0</td>\n",
       "      <td>0</td>\n",
       "      <td>1</td>\n",
       "      <td>0</td>\n",
       "      <td>0</td>\n",
       "      <td>0</td>\n",
       "      <td>0</td>\n",
       "    </tr>\n",
       "    <tr>\n",
       "      <th>2</th>\n",
       "      <td>0.606897</td>\n",
       "      <td>1</td>\n",
       "      <td>1.000</td>\n",
       "      <td>0.017241</td>\n",
       "      <td>1.000000</td>\n",
       "      <td>1.0</td>\n",
       "      <td>1</td>\n",
       "      <td>1.0</td>\n",
       "      <td>3</td>\n",
       "      <td>0</td>\n",
       "      <td>...</td>\n",
       "      <td>0</td>\n",
       "      <td>0</td>\n",
       "      <td>0</td>\n",
       "      <td>0</td>\n",
       "      <td>1</td>\n",
       "      <td>0</td>\n",
       "      <td>0</td>\n",
       "      <td>0</td>\n",
       "      <td>0</td>\n",
       "      <td>0</td>\n",
       "    </tr>\n",
       "    <tr>\n",
       "      <th>3</th>\n",
       "      <td>0.331897</td>\n",
       "      <td>0</td>\n",
       "      <td>0.500</td>\n",
       "      <td>0.017241</td>\n",
       "      <td>0.625000</td>\n",
       "      <td>NaN</td>\n",
       "      <td>0</td>\n",
       "      <td>NaN</td>\n",
       "      <td>NaN</td>\n",
       "      <td>1</td>\n",
       "      <td>...</td>\n",
       "      <td>0</td>\n",
       "      <td>0</td>\n",
       "      <td>0</td>\n",
       "      <td>0</td>\n",
       "      <td>0</td>\n",
       "      <td>0</td>\n",
       "      <td>0</td>\n",
       "      <td>0</td>\n",
       "      <td>0</td>\n",
       "      <td>0</td>\n",
       "    </tr>\n",
       "    <tr>\n",
       "      <th>4</th>\n",
       "      <td>0.313793</td>\n",
       "      <td>1</td>\n",
       "      <td>0.375</td>\n",
       "      <td>0.034483</td>\n",
       "      <td>0.750000</td>\n",
       "      <td>1.0</td>\n",
       "      <td>1</td>\n",
       "      <td>0.0</td>\n",
       "      <td>2</td>\n",
       "      <td>0</td>\n",
       "      <td>...</td>\n",
       "      <td>0</td>\n",
       "      <td>0</td>\n",
       "      <td>0</td>\n",
       "      <td>0</td>\n",
       "      <td>0</td>\n",
       "      <td>1</td>\n",
       "      <td>0</td>\n",
       "      <td>0</td>\n",
       "      <td>0</td>\n",
       "      <td>0</td>\n",
       "    </tr>\n",
       "    <tr>\n",
       "      <th>...</th>\n",
       "      <td>...</td>\n",
       "      <td>...</td>\n",
       "      <td>...</td>\n",
       "      <td>...</td>\n",
       "      <td>...</td>\n",
       "      <td>...</td>\n",
       "      <td>...</td>\n",
       "      <td>...</td>\n",
       "      <td>...</td>\n",
       "      <td>...</td>\n",
       "      <td>...</td>\n",
       "      <td>...</td>\n",
       "      <td>...</td>\n",
       "      <td>...</td>\n",
       "      <td>...</td>\n",
       "      <td>...</td>\n",
       "      <td>...</td>\n",
       "      <td>...</td>\n",
       "      <td>...</td>\n",
       "      <td>...</td>\n",
       "      <td>...</td>\n",
       "    </tr>\n",
       "    <tr>\n",
       "      <th>9672</th>\n",
       "      <td>0.373563</td>\n",
       "      <td>1</td>\n",
       "      <td>0.500</td>\n",
       "      <td>0.017241</td>\n",
       "      <td>0.833333</td>\n",
       "      <td>1.0</td>\n",
       "      <td>0</td>\n",
       "      <td>0.0</td>\n",
       "      <td>2.0</td>\n",
       "      <td>1</td>\n",
       "      <td>...</td>\n",
       "      <td>0</td>\n",
       "      <td>0</td>\n",
       "      <td>0</td>\n",
       "      <td>0</td>\n",
       "      <td>0</td>\n",
       "      <td>0</td>\n",
       "      <td>0</td>\n",
       "      <td>0</td>\n",
       "      <td>0</td>\n",
       "      <td>0</td>\n",
       "    </tr>\n",
       "    <tr>\n",
       "      <th>9673</th>\n",
       "      <td>0.437356</td>\n",
       "      <td>1</td>\n",
       "      <td>0.625</td>\n",
       "      <td>0.051724</td>\n",
       "      <td>0.833333</td>\n",
       "      <td>1.0</td>\n",
       "      <td>1</td>\n",
       "      <td>0.0</td>\n",
       "      <td>1.0</td>\n",
       "      <td>0</td>\n",
       "      <td>...</td>\n",
       "      <td>0</td>\n",
       "      <td>0</td>\n",
       "      <td>0</td>\n",
       "      <td>0</td>\n",
       "      <td>0</td>\n",
       "      <td>0</td>\n",
       "      <td>1</td>\n",
       "      <td>0</td>\n",
       "      <td>0</td>\n",
       "      <td>0</td>\n",
       "    </tr>\n",
       "    <tr>\n",
       "      <th>9674</th>\n",
       "      <td>0.291247</td>\n",
       "      <td>1</td>\n",
       "      <td>0.250</td>\n",
       "      <td>0.189655</td>\n",
       "      <td>0.576923</td>\n",
       "      <td>1.0</td>\n",
       "      <td>0</td>\n",
       "      <td>1.0</td>\n",
       "      <td>1.0</td>\n",
       "      <td>0</td>\n",
       "      <td>...</td>\n",
       "      <td>0</td>\n",
       "      <td>0</td>\n",
       "      <td>1</td>\n",
       "      <td>0</td>\n",
       "      <td>0</td>\n",
       "      <td>0</td>\n",
       "      <td>0</td>\n",
       "      <td>0</td>\n",
       "      <td>0</td>\n",
       "      <td>0</td>\n",
       "    </tr>\n",
       "    <tr>\n",
       "      <th>9675</th>\n",
       "      <td>0.473276</td>\n",
       "      <td>1</td>\n",
       "      <td>0.625</td>\n",
       "      <td>0.120690</td>\n",
       "      <td>0.875000</td>\n",
       "      <td>1.0</td>\n",
       "      <td>1</td>\n",
       "      <td>0.0</td>\n",
       "      <td>2.0</td>\n",
       "      <td>0</td>\n",
       "      <td>...</td>\n",
       "      <td>0</td>\n",
       "      <td>0</td>\n",
       "      <td>0</td>\n",
       "      <td>0</td>\n",
       "      <td>0</td>\n",
       "      <td>0</td>\n",
       "      <td>0</td>\n",
       "      <td>0</td>\n",
       "      <td>0</td>\n",
       "      <td>0</td>\n",
       "    </tr>\n",
       "    <tr>\n",
       "      <th>9676</th>\n",
       "      <td>0.744741</td>\n",
       "      <td>1</td>\n",
       "      <td>0.625</td>\n",
       "      <td>0.793103</td>\n",
       "      <td>0.887500</td>\n",
       "      <td>1.0</td>\n",
       "      <td>0</td>\n",
       "      <td>1.0</td>\n",
       "      <td>1.0</td>\n",
       "      <td>1</td>\n",
       "      <td>...</td>\n",
       "      <td>0</td>\n",
       "      <td>0</td>\n",
       "      <td>0</td>\n",
       "      <td>0</td>\n",
       "      <td>0</td>\n",
       "      <td>0</td>\n",
       "      <td>1</td>\n",
       "      <td>0</td>\n",
       "      <td>0</td>\n",
       "      <td>0</td>\n",
       "    </tr>\n",
       "  </tbody>\n",
       "</table>\n",
       "<p>9677 rows × 28 columns</p>\n",
       "</div>"
      ],
      "text/plain": [
       "      metrica_exito  weekend_days  max_min_estrellas  max_min_resenas  \\\n",
       "0          0.555388             1              0.625         0.310345   \n",
       "1          0.452000             1              0.250         0.500000   \n",
       "2          0.606897             1              1.000         0.017241   \n",
       "3          0.331897             0              0.500         0.017241   \n",
       "4          0.313793             1              0.375         0.034483   \n",
       "...             ...           ...                ...              ...   \n",
       "9672       0.373563             1              0.500         0.017241   \n",
       "9673       0.437356             1              0.625         0.051724   \n",
       "9674       0.291247             1              0.250         0.189655   \n",
       "9675       0.473276             1              0.625         0.120690   \n",
       "9676       0.744741             1              0.625         0.793103   \n",
       "\n",
       "      Sentiment  tiene_parqueo_bicicletas  open_night  parqueo rango_precios  \\\n",
       "0      0.906250                       1.0           0      0.0             2   \n",
       "1      0.760000                       NaN           0      0.0             3   \n",
       "2      1.000000                       1.0           1      1.0             3   \n",
       "3      0.625000                       NaN           0      NaN           NaN   \n",
       "4      0.750000                       1.0           1      0.0             2   \n",
       "...         ...                       ...         ...      ...           ...   \n",
       "9672   0.833333                       1.0           0      0.0           2.0   \n",
       "9673   0.833333                       1.0           1      0.0           1.0   \n",
       "9674   0.576923                       1.0           0      1.0           1.0   \n",
       "9675   0.875000                       1.0           1      0.0           2.0   \n",
       "9676   0.887500                       1.0           0      1.0           1.0   \n",
       "\n",
       "      open_after  ...  estado_CT  estado_IL  estado_NC  estado_NV  estado_OH  \\\n",
       "0              1  ...          0          0          0          0          0   \n",
       "1              1  ...          0          0          0          0          0   \n",
       "2              0  ...          0          0          0          0          1   \n",
       "3              1  ...          0          0          0          0          0   \n",
       "4              0  ...          0          0          0          0          0   \n",
       "...          ...  ...        ...        ...        ...        ...        ...   \n",
       "9672           1  ...          0          0          0          0          0   \n",
       "9673           0  ...          0          0          0          0          0   \n",
       "9674           0  ...          0          0          1          0          0   \n",
       "9675           0  ...          0          0          0          0          0   \n",
       "9676           1  ...          0          0          0          0          0   \n",
       "\n",
       "      estado_ON  estado_PA  estado_QC  estado_SC  estado_WI  \n",
       "0             0          0          0          0          0  \n",
       "1             1          0          0          0          0  \n",
       "2             0          0          0          0          0  \n",
       "3             0          0          0          0          0  \n",
       "4             1          0          0          0          0  \n",
       "...         ...        ...        ...        ...        ...  \n",
       "9672          0          0          0          0          0  \n",
       "9673          0          1          0          0          0  \n",
       "9674          0          0          0          0          0  \n",
       "9675          0          0          0          0          0  \n",
       "9676          0          1          0          0          0  \n",
       "\n",
       "[9677 rows x 28 columns]"
      ]
     },
     "execution_count": 42,
     "metadata": {},
     "output_type": "execute_result"
    }
   ],
   "source": [
    "df_model[[ 'metrica_exito', 'weekend_days','max_min_estrellas', 'max_min_resenas', 'Sentiment',\n",
    "       'tiene_parqueo_bicicletas', 'open_night', 'parqueo',\n",
    "       'rango_precios', 'open_after', 'acepta_tarjeta_credito', 'open_morning',\n",
    "       'abierto_24_horas', 'week_days','estado_AB',\n",
    "       'estado_AL', 'estado_AZ', 'estado_CA', 'estado_CT', 'estado_IL',\n",
    "       'estado_NC', 'estado_NV', 'estado_OH', 'estado_ON', 'estado_PA',\n",
    "       'estado_QC', 'estado_SC', 'estado_WI']]"
   ]
  },
  {
   "cell_type": "code",
   "execution_count": 43,
   "metadata": {},
   "outputs": [],
   "source": [
    "from scipy import stats\n",
    "\n",
    "from kmodes.kmodes import KModes\n",
    "from sklearn import datasets, linear_model\n",
    "from sklearn.cluster import MiniBatchKMeans, KMeans\n",
    "from sklearn.datasets import make_blobs\n",
    "from sklearn import preprocessing\n",
    "from sklearn.metrics import silhouette_samples, silhouette_score, mean_squared_error, r2_score\n",
    "from sklearn.model_selection import train_test_split\n",
    "from sklearn.decomposition import PCA\n",
    "\n",
    "from yellowbrick.cluster import KElbowVisualizer\n",
    "from scipy.stats import norm"
   ]
  },
  {
   "cell_type": "code",
   "execution_count": 44,
   "metadata": {},
   "outputs": [],
   "source": [
    "import numpy as np\n",
    "from sklearn.metrics import silhouette_samples, silhouette_score, mean_squared_error, r2_score"
   ]
  },
  {
   "cell_type": "code",
   "execution_count": 45,
   "metadata": {},
   "outputs": [],
   "source": [
    "col_use=['max_min_estrellas', 'max_min_resenas', 'Sentiment','tiene_parqueo_bicicletas', 'open_night', 'parqueo',\n",
    "       'rango_precios', 'open_after', 'acepta_tarjeta_credito', 'open_morning',\n",
    "       'abierto_24_horas', 'week_days']\n",
    "\n",
    "#,'estado_AB',\n",
    " #      'estado_AL', 'estado_AZ', 'estado_CA', 'estado_CT', 'estado_IL',\n",
    "  #     'estado_NC', 'estado_NV', 'estado_OH', 'estado_ON', 'estado_PA',\n",
    "   #    'estado_QC', 'estado_SC', 'estado_WI' 'max_min_estrellas', 'max_min_resenas', 'Sentiment',"
   ]
  },
  {
   "cell_type": "code",
   "execution_count": 46,
   "metadata": {},
   "outputs": [],
   "source": [
    "df_model__copy=df_model.copy()[col_use+['metrica_exito']].dropna()"
   ]
  },
  {
   "cell_type": "code",
   "execution_count": 47,
   "metadata": {},
   "outputs": [],
   "source": [
    "df_model_1=df_model[col_use].dropna()"
   ]
  },
  {
   "cell_type": "code",
   "execution_count": null,
   "metadata": {},
   "outputs": [],
   "source": []
  },
  {
   "cell_type": "code",
   "execution_count": 12,
   "metadata": {},
   "outputs": [],
   "source": [
    "cost = []\n",
    "for i in range(1,21):\n",
    "  kmode = KModes(n_clusters=i,  init = \"Huang\", max_iter=300)\n",
    "  kmode.fit(df_model_1) #Aplicar K-Modes a la base de datos\n",
    "  cost.append(kmode.cost_)"
   ]
  },
  {
   "cell_type": "code",
   "execution_count": 13,
   "metadata": {},
   "outputs": [
    {
     "data": {
      "application/vnd.jupyter.widget-view+json": {
       "model_id": "5559e66961684bf9b877b402767f9481",
       "version_major": 2,
       "version_minor": 0
      },
      "text/plain": [
       "Canvas(toolbar=Toolbar(toolitems=[('Home', 'Reset original view', 'home', 'home'), ('Back', 'Back to previous …"
      ]
     },
     "metadata": {},
     "output_type": "display_data"
    }
   ],
   "source": [
    "# GRÁFICO: K-Means óptimo\n",
    "plt.plot(range(1,21), cost)\n",
    "plt.title(\"Elbow Method\")\n",
    "plt.xlabel(\"Número de clusters\")\n",
    "plt.ylabel(\"cost\")\n",
    "\n",
    "num_clusters =  10# Se observa en el gráfico\n",
    "plt.axvline(x = num_clusters, linewidth = 2, color = \"red\", linestyle = \"--\" )\n",
    "plt.show()"
   ]
  },
  {
   "cell_type": "code",
   "execution_count": 14,
   "metadata": {},
   "outputs": [
    {
     "data": {
      "text/plain": [
       "KModes(init='Huang', max_iter=300, n_clusters=10)"
      ]
     },
     "execution_count": 14,
     "metadata": {},
     "output_type": "execute_result"
    }
   ],
   "source": [
    "clustering = KModes(n_clusters=10,  init = \"Huang\",max_iter=300) # Crea el modelo\n",
    "clustering.fit(df_model_1) # Aplica el modelo a la base de datos"
   ]
  },
  {
   "cell_type": "code",
   "execution_count": 15,
   "metadata": {},
   "outputs": [],
   "source": [
    "df_model__copy[\"kmodes_clusters\"]=clustering.labels_"
   ]
  },
  {
   "cell_type": "code",
   "execution_count": 16,
   "metadata": {},
   "outputs": [],
   "source": [
    "goups_clusters=df_model__copy.groupby(by=\"kmodes_clusters\",as_index=False)"
   ]
  },
  {
   "cell_type": "code",
   "execution_count": 17,
   "metadata": {},
   "outputs": [
    {
     "name": "stdout",
     "output_type": "stream",
     "text": [
      "0  0.5136450909103941\n",
      "1  0.5885181345128033\n",
      "2  0.5275515507111941\n",
      "3  0.536188889700547\n",
      "4  0.5259242557172004\n",
      "5  0.5776549530938514\n",
      "6  0.38999820177239075\n",
      "7  0.568077003520531\n",
      "8  0.43674462273072595\n",
      "9  0.5846890485699213\n"
     ]
    }
   ],
   "source": [
    "for i in goups_clusters.groups.keys():\n",
    "    group=goups_clusters.get_group(i)\n",
    "    mean=np.mean(group.metrica_exito)\n",
    "    print(f\"{i}  {mean}\")"
   ]
  },
  {
   "cell_type": "code",
   "execution_count": 18,
   "metadata": {},
   "outputs": [],
   "source": [
    "x = df_model_1.iloc[:,:].values"
   ]
  },
  {
   "cell_type": "code",
   "execution_count": 19,
   "metadata": {},
   "outputs": [
    {
     "data": {
      "text/plain": [
       "array([[1.0, 0.0172413793103448, 1.0, ..., 1, 0, 1],\n",
       "       [0.75, 0.0172413793103448, 1.0, ..., 1, 0, 1],\n",
       "       [0.5, 0.0, 1.0, ..., 1, 0, 1],\n",
       "       ...,\n",
       "       [0.625, 0.0517241379310344, 0.8333333333333334, ..., 1, 0, 1],\n",
       "       [0.25, 0.1896551724137931, 0.5769230769230769, ..., 1, 0, 1],\n",
       "       [0.625, 0.7931034482758621, 0.8875, ..., 1, 0, 1]], dtype=object)"
      ]
     },
     "execution_count": 19,
     "metadata": {},
     "output_type": "execute_result"
    }
   ],
   "source": [
    "x"
   ]
  },
  {
   "cell_type": "code",
   "execution_count": 20,
   "metadata": {},
   "outputs": [
    {
     "data": {
      "text/plain": [
       "-0.08709987553108925"
      ]
     },
     "execution_count": 20,
     "metadata": {},
     "output_type": "execute_result"
    }
   ],
   "source": [
    "silhouette_score(x,kmode.labels_)"
   ]
  },
  {
   "cell_type": "code",
   "execution_count": 21,
   "metadata": {},
   "outputs": [
    {
     "data": {
      "text/html": [
       "<div>\n",
       "<style scoped>\n",
       "    .dataframe tbody tr th:only-of-type {\n",
       "        vertical-align: middle;\n",
       "    }\n",
       "\n",
       "    .dataframe tbody tr th {\n",
       "        vertical-align: top;\n",
       "    }\n",
       "\n",
       "    .dataframe thead th {\n",
       "        text-align: right;\n",
       "    }\n",
       "</style>\n",
       "<table border=\"1\" class=\"dataframe\">\n",
       "  <thead>\n",
       "    <tr style=\"text-align: right;\">\n",
       "      <th></th>\n",
       "      <th>Componente_1</th>\n",
       "      <th>Componente_2</th>\n",
       "      <th>kmodes_clusters</th>\n",
       "    </tr>\n",
       "  </thead>\n",
       "  <tbody>\n",
       "    <tr>\n",
       "      <th>0</th>\n",
       "      <td>0.824929</td>\n",
       "      <td>-0.195914</td>\n",
       "      <td>3</td>\n",
       "    </tr>\n",
       "    <tr>\n",
       "      <th>1</th>\n",
       "      <td>0.061376</td>\n",
       "      <td>-0.398364</td>\n",
       "      <td>3</td>\n",
       "    </tr>\n",
       "    <tr>\n",
       "      <th>2</th>\n",
       "      <td>0.059647</td>\n",
       "      <td>-0.423578</td>\n",
       "      <td>3</td>\n",
       "    </tr>\n",
       "    <tr>\n",
       "      <th>3</th>\n",
       "      <td>0.823778</td>\n",
       "      <td>-0.208466</td>\n",
       "      <td>0</td>\n",
       "    </tr>\n",
       "    <tr>\n",
       "      <th>4</th>\n",
       "      <td>2.007354</td>\n",
       "      <td>-0.375600</td>\n",
       "      <td>8</td>\n",
       "    </tr>\n",
       "  </tbody>\n",
       "</table>\n",
       "</div>"
      ],
      "text/plain": [
       "   Componente_1  Componente_2  kmodes_clusters\n",
       "0      0.824929     -0.195914                3\n",
       "1      0.061376     -0.398364                3\n",
       "2      0.059647     -0.423578                3\n",
       "3      0.823778     -0.208466                0\n",
       "4      2.007354     -0.375600                8"
      ]
     },
     "execution_count": 21,
     "metadata": {},
     "output_type": "execute_result"
    }
   ],
   "source": [
    "pca = PCA(n_components = 2)\n",
    "pca_user = pca.fit_transform(df_model_1)\n",
    "pca_user_df = pd.DataFrame(data = pca_user, columns = [\"Componente_1\", \"Componente_2\"])\n",
    "pca_nombres_user = pd.concat([pca_user_df , df_model__copy[[\"kmodes_clusters\"]].reset_index(drop=True)], axis=1)\n",
    "pca_nombres_user.head()"
   ]
  },
  {
   "cell_type": "code",
   "execution_count": 22,
   "metadata": {},
   "outputs": [
    {
     "data": {
      "text/plain": [
       "array([3, 0, 8, 5, 2, 1, 7, 4, 6, 9], dtype=uint16)"
      ]
     },
     "execution_count": 22,
     "metadata": {},
     "output_type": "execute_result"
    }
   ],
   "source": [
    "pca_nombres_user.kmodes_clusters.unique()"
   ]
  },
  {
   "cell_type": "code",
   "execution_count": null,
   "metadata": {},
   "outputs": [],
   "source": []
  },
  {
   "cell_type": "code",
   "execution_count": 23,
   "metadata": {},
   "outputs": [
    {
     "data": {
      "application/vnd.jupyter.widget-view+json": {
       "model_id": "2ae2a3308b5749ce9375ce7f1fc8a0ac",
       "version_major": 2,
       "version_minor": 0
      },
      "text/plain": [
       "Canvas(toolbar=Toolbar(toolitems=[('Home', 'Reset original view', 'home', 'home'), ('Back', 'Back to previous …"
      ]
     },
     "metadata": {},
     "output_type": "display_data"
    }
   ],
   "source": [
    "cmap = plt.cm.Spectral\n",
    "norm = plt.Normalize(vmin=1, vmax=11)\n",
    "z = np.array([1,2,3,4,5,6,7,8,9,10])\n",
    "\n",
    "fig = plt.figure(figsize=(6,6))\n",
    "\n",
    "ax = fig.add_subplot(1,1,1)\n",
    "ax.set_xlabel(\"Componente 1\", fontsize = 15)\n",
    "ax.set_ylabel(\"Componente 2\", fontsize = 15)\n",
    "ax.set_title(\"Componentes principales\", fontsize = 20)\n",
    "\n",
    "color_theme = cmap(norm(z))\n",
    "ax.scatter(x = pca_nombres_user.Componente_1, y = pca_nombres_user.Componente_2, c = color_theme[pca_nombres_user.kmodes_clusters], s = 50)\n",
    "plt.show()"
   ]
  },
  {
   "cell_type": "code",
   "execution_count": 24,
   "metadata": {},
   "outputs": [
    {
     "data": {
      "text/plain": [
       "array([[0.99146482, 0.67735486, 0.37808535, 1.        ],\n",
       "       [0.99146482, 0.67735486, 0.37808535, 1.        ],\n",
       "       [0.99146482, 0.67735486, 0.37808535, 1.        ],\n",
       "       ...,\n",
       "       [0.99607843, 0.87843137, 0.54509804, 1.        ],\n",
       "       [0.61960784, 0.00392157, 0.25882353, 1.        ],\n",
       "       [0.83106498, 0.23844675, 0.30880431, 1.        ]])"
      ]
     },
     "execution_count": 24,
     "metadata": {},
     "output_type": "execute_result"
    }
   ],
   "source": [
    "color_theme[pca_nombres_user.kmodes_clusters]"
   ]
  },
  {
   "cell_type": "code",
   "execution_count": 7,
   "metadata": {},
   "outputs": [],
   "source": [
    "from sklearn.datasets import make_blobs\n",
    "from sklearn.cluster import KMeans\n",
    "from sklearn.metrics import silhouette_samples, silhouette_score\n",
    "import matplotlib.pyplot as plt\n",
    "import matplotlib.cm as cm\n",
    "import numpy as np\n"
   ]
  },
  {
   "cell_type": "code",
   "execution_count": 26,
   "metadata": {},
   "outputs": [
    {
     "name": "stdout",
     "output_type": "stream",
     "text": [
      "For n_clusters = 2 The average silhouette_score is : 0.22255086711162533\n",
      "For n_clusters = 3 The average silhouette_score is : 0.20436710550494816\n",
      "For n_clusters = 4 The average silhouette_score is : 0.3294108055951454\n",
      "For n_clusters = 5 The average silhouette_score is : 0.4204966526965818\n",
      "For n_clusters = 6 The average silhouette_score is : 0.36413447787099046\n",
      "For n_clusters = 7 The average silhouette_score is : 0.4765982905862251\n",
      "For n_clusters = 8 The average silhouette_score is : 0.5956530903444193\n",
      "For n_clusters = 9 The average silhouette_score is : 0.639535445308399\n",
      "For n_clusters = 10 The average silhouette_score is : 0.5906593352868094\n",
      "For n_clusters = 11 The average silhouette_score is : 0.5637863001895923\n",
      "For n_clusters = 12 The average silhouette_score is : 0.4190568275345402\n",
      "For n_clusters = 13 The average silhouette_score is : 0.31193664334532656\n",
      "For n_clusters = 14 The average silhouette_score is : 0.5798732853743408\n",
      "For n_clusters = 15 The average silhouette_score is : 0.6566204418019428\n"
     ]
    }
   ],
   "source": [
    "range_n_clusters =[2,3,4,5,6,7,8,9,10,11,12,13,14,15]\n",
    "X=df_model_1[[ 'tiene_parqueo_bicicletas', 'open_night', 'parqueo', 'rango_precios',\n",
    "       'open_after', 'acepta_tarjeta_credito', 'open_morning',\n",
    "       'abierto_24_horas', 'week_days']].values\n",
    "for n_clusters in range_n_clusters:\n",
    "\n",
    "    clusterer =KModes(n_clusters=n_clusters,  init = \"Huang\",max_iter=300)\n",
    "    cluster_labels = clusterer.fit_predict(X)\n",
    "\n",
    "    silhouette_avg = silhouette_score(X, cluster_labels)\n",
    "    print(\"For n_clusters =\", n_clusters,\n",
    "          \"The average silhouette_score is :\", silhouette_avg)"
   ]
  },
  {
   "cell_type": "code",
   "execution_count": 27,
   "metadata": {},
   "outputs": [
    {
     "data": {
      "text/plain": [
       "Index(['max_min_estrellas', 'max_min_resenas', 'Sentiment',\n",
       "       'tiene_parqueo_bicicletas', 'open_night', 'parqueo', 'rango_precios',\n",
       "       'open_after', 'acepta_tarjeta_credito', 'open_morning',\n",
       "       'abierto_24_horas', 'week_days'],\n",
       "      dtype='object')"
      ]
     },
     "execution_count": 27,
     "metadata": {},
     "output_type": "execute_result"
    }
   ],
   "source": [
    "df_model_1.columns\n"
   ]
  },
  {
   "cell_type": "code",
   "execution_count": 28,
   "metadata": {},
   "outputs": [
    {
     "name": "stdout",
     "output_type": "stream",
     "text": [
      "For n_clusters = 2 The average silhouette_score is : 0.3855336652339273\n",
      "For n_clusters = 3 The average silhouette_score is : 0.4173851517162564\n",
      "For n_clusters = 4 The average silhouette_score is : 0.4657259582296164\n",
      "For n_clusters = 5 The average silhouette_score is : 0.4893884458659795\n",
      "For n_clusters = 6 The average silhouette_score is : 0.532712559104742\n",
      "For n_clusters = 7 The average silhouette_score is : 0.5993028258664532\n",
      "For n_clusters = 8 The average silhouette_score is : 0.6161069442024794\n",
      "For n_clusters = 9 The average silhouette_score is : 0.6714013898059473\n",
      "For n_clusters = 10 The average silhouette_score is : 0.7034123907314398\n",
      "For n_clusters = 11 The average silhouette_score is : 0.7496521998192188\n",
      "For n_clusters = 12 The average silhouette_score is : 0.7718534567697701\n",
      "For n_clusters = 13 The average silhouette_score is : 0.7739350210976634\n",
      "For n_clusters = 14 The average silhouette_score is : 0.799271098063569\n",
      "For n_clusters = 15 The average silhouette_score is : 0.8164111855531261\n"
     ]
    }
   ],
   "source": [
    "range_n_clusters =[2,3,4,5,6,7,8,9,10,11,12,13,14,15]\n",
    "X=df_model_1[[ 'tiene_parqueo_bicicletas', 'open_night', 'parqueo', 'rango_precios',\n",
    "       'open_after', 'acepta_tarjeta_credito', 'open_morning',\n",
    "       'abierto_24_horas', 'week_days']].values\n",
    "for n_clusters in range_n_clusters:\n",
    "\n",
    "    clusterer =KMeans(n_clusters=n_clusters, max_iter=300)\n",
    "\n",
    "    cluster_labels = clusterer.fit_predict(X)\n",
    "\n",
    "    silhouette_avg = silhouette_score(X, cluster_labels)\n",
    "    print(\"For n_clusters =\", n_clusters,\n",
    "          \"The average silhouette_score is :\", silhouette_avg)"
   ]
  },
  {
   "cell_type": "code",
   "execution_count": 29,
   "metadata": {},
   "outputs": [
    {
     "data": {
      "text/html": [
       "<div>\n",
       "<style scoped>\n",
       "    .dataframe tbody tr th:only-of-type {\n",
       "        vertical-align: middle;\n",
       "    }\n",
       "\n",
       "    .dataframe tbody tr th {\n",
       "        vertical-align: top;\n",
       "    }\n",
       "\n",
       "    .dataframe thead th {\n",
       "        text-align: right;\n",
       "    }\n",
       "</style>\n",
       "<table border=\"1\" class=\"dataframe\">\n",
       "  <thead>\n",
       "    <tr style=\"text-align: right;\">\n",
       "      <th></th>\n",
       "      <th>max_min_estrellas</th>\n",
       "      <th>max_min_resenas</th>\n",
       "      <th>Sentiment</th>\n",
       "      <th>tiene_parqueo_bicicletas</th>\n",
       "      <th>open_night</th>\n",
       "      <th>parqueo</th>\n",
       "      <th>rango_precios</th>\n",
       "      <th>open_after</th>\n",
       "      <th>acepta_tarjeta_credito</th>\n",
       "      <th>open_morning</th>\n",
       "      <th>abierto_24_horas</th>\n",
       "      <th>week_days</th>\n",
       "    </tr>\n",
       "  </thead>\n",
       "  <tbody>\n",
       "    <tr>\n",
       "      <th>2</th>\n",
       "      <td>1.000</td>\n",
       "      <td>0.017241</td>\n",
       "      <td>1.000000</td>\n",
       "      <td>1.0</td>\n",
       "      <td>1</td>\n",
       "      <td>1.0</td>\n",
       "      <td>3</td>\n",
       "      <td>0</td>\n",
       "      <td>1.0</td>\n",
       "      <td>1</td>\n",
       "      <td>0</td>\n",
       "      <td>1</td>\n",
       "    </tr>\n",
       "    <tr>\n",
       "      <th>9</th>\n",
       "      <td>0.750</td>\n",
       "      <td>0.017241</td>\n",
       "      <td>1.000000</td>\n",
       "      <td>1.0</td>\n",
       "      <td>1</td>\n",
       "      <td>0.0</td>\n",
       "      <td>2</td>\n",
       "      <td>0</td>\n",
       "      <td>1.0</td>\n",
       "      <td>1</td>\n",
       "      <td>0</td>\n",
       "      <td>1</td>\n",
       "    </tr>\n",
       "    <tr>\n",
       "      <th>10</th>\n",
       "      <td>0.500</td>\n",
       "      <td>0.000000</td>\n",
       "      <td>1.000000</td>\n",
       "      <td>1.0</td>\n",
       "      <td>1</td>\n",
       "      <td>0.0</td>\n",
       "      <td>2</td>\n",
       "      <td>0</td>\n",
       "      <td>1.0</td>\n",
       "      <td>1</td>\n",
       "      <td>0</td>\n",
       "      <td>1</td>\n",
       "    </tr>\n",
       "    <tr>\n",
       "      <th>12</th>\n",
       "      <td>0.875</td>\n",
       "      <td>0.017241</td>\n",
       "      <td>1.000000</td>\n",
       "      <td>1.0</td>\n",
       "      <td>1</td>\n",
       "      <td>1.0</td>\n",
       "      <td>3</td>\n",
       "      <td>0</td>\n",
       "      <td>1.0</td>\n",
       "      <td>1</td>\n",
       "      <td>0</td>\n",
       "      <td>1</td>\n",
       "    </tr>\n",
       "    <tr>\n",
       "      <th>14</th>\n",
       "      <td>0.625</td>\n",
       "      <td>0.000000</td>\n",
       "      <td>0.500000</td>\n",
       "      <td>1.0</td>\n",
       "      <td>1</td>\n",
       "      <td>0.0</td>\n",
       "      <td>4</td>\n",
       "      <td>0</td>\n",
       "      <td>1.0</td>\n",
       "      <td>1</td>\n",
       "      <td>0</td>\n",
       "      <td>1</td>\n",
       "    </tr>\n",
       "    <tr>\n",
       "      <th>...</th>\n",
       "      <td>...</td>\n",
       "      <td>...</td>\n",
       "      <td>...</td>\n",
       "      <td>...</td>\n",
       "      <td>...</td>\n",
       "      <td>...</td>\n",
       "      <td>...</td>\n",
       "      <td>...</td>\n",
       "      <td>...</td>\n",
       "      <td>...</td>\n",
       "      <td>...</td>\n",
       "      <td>...</td>\n",
       "    </tr>\n",
       "    <tr>\n",
       "      <th>9669</th>\n",
       "      <td>0.875</td>\n",
       "      <td>0.362069</td>\n",
       "      <td>1.000000</td>\n",
       "      <td>1.0</td>\n",
       "      <td>1</td>\n",
       "      <td>1.0</td>\n",
       "      <td>2.0</td>\n",
       "      <td>0</td>\n",
       "      <td>1.0</td>\n",
       "      <td>1</td>\n",
       "      <td>0</td>\n",
       "      <td>1</td>\n",
       "    </tr>\n",
       "    <tr>\n",
       "      <th>9672</th>\n",
       "      <td>0.500</td>\n",
       "      <td>0.017241</td>\n",
       "      <td>0.833333</td>\n",
       "      <td>1.0</td>\n",
       "      <td>0</td>\n",
       "      <td>0.0</td>\n",
       "      <td>2.0</td>\n",
       "      <td>1</td>\n",
       "      <td>1.0</td>\n",
       "      <td>1</td>\n",
       "      <td>0</td>\n",
       "      <td>1</td>\n",
       "    </tr>\n",
       "    <tr>\n",
       "      <th>9673</th>\n",
       "      <td>0.625</td>\n",
       "      <td>0.051724</td>\n",
       "      <td>0.833333</td>\n",
       "      <td>1.0</td>\n",
       "      <td>1</td>\n",
       "      <td>0.0</td>\n",
       "      <td>1.0</td>\n",
       "      <td>0</td>\n",
       "      <td>1.0</td>\n",
       "      <td>1</td>\n",
       "      <td>0</td>\n",
       "      <td>1</td>\n",
       "    </tr>\n",
       "    <tr>\n",
       "      <th>9674</th>\n",
       "      <td>0.250</td>\n",
       "      <td>0.189655</td>\n",
       "      <td>0.576923</td>\n",
       "      <td>1.0</td>\n",
       "      <td>0</td>\n",
       "      <td>1.0</td>\n",
       "      <td>1.0</td>\n",
       "      <td>0</td>\n",
       "      <td>1.0</td>\n",
       "      <td>1</td>\n",
       "      <td>0</td>\n",
       "      <td>1</td>\n",
       "    </tr>\n",
       "    <tr>\n",
       "      <th>9676</th>\n",
       "      <td>0.625</td>\n",
       "      <td>0.793103</td>\n",
       "      <td>0.887500</td>\n",
       "      <td>1.0</td>\n",
       "      <td>0</td>\n",
       "      <td>1.0</td>\n",
       "      <td>1.0</td>\n",
       "      <td>1</td>\n",
       "      <td>1.0</td>\n",
       "      <td>1</td>\n",
       "      <td>0</td>\n",
       "      <td>1</td>\n",
       "    </tr>\n",
       "  </tbody>\n",
       "</table>\n",
       "<p>3480 rows × 12 columns</p>\n",
       "</div>"
      ],
      "text/plain": [
       "      max_min_estrellas  max_min_resenas  Sentiment  tiene_parqueo_bicicletas  \\\n",
       "2                 1.000         0.017241   1.000000                       1.0   \n",
       "9                 0.750         0.017241   1.000000                       1.0   \n",
       "10                0.500         0.000000   1.000000                       1.0   \n",
       "12                0.875         0.017241   1.000000                       1.0   \n",
       "14                0.625         0.000000   0.500000                       1.0   \n",
       "...                 ...              ...        ...                       ...   \n",
       "9669              0.875         0.362069   1.000000                       1.0   \n",
       "9672              0.500         0.017241   0.833333                       1.0   \n",
       "9673              0.625         0.051724   0.833333                       1.0   \n",
       "9674              0.250         0.189655   0.576923                       1.0   \n",
       "9676              0.625         0.793103   0.887500                       1.0   \n",
       "\n",
       "      open_night  parqueo rango_precios  open_after  acepta_tarjeta_credito  \\\n",
       "2              1      1.0             3           0                     1.0   \n",
       "9              1      0.0             2           0                     1.0   \n",
       "10             1      0.0             2           0                     1.0   \n",
       "12             1      1.0             3           0                     1.0   \n",
       "14             1      0.0             4           0                     1.0   \n",
       "...          ...      ...           ...         ...                     ...   \n",
       "9669           1      1.0           2.0           0                     1.0   \n",
       "9672           0      0.0           2.0           1                     1.0   \n",
       "9673           1      0.0           1.0           0                     1.0   \n",
       "9674           0      1.0           1.0           0                     1.0   \n",
       "9676           0      1.0           1.0           1                     1.0   \n",
       "\n",
       "      open_morning  abierto_24_horas  week_days  \n",
       "2                1                 0          1  \n",
       "9                1                 0          1  \n",
       "10               1                 0          1  \n",
       "12               1                 0          1  \n",
       "14               1                 0          1  \n",
       "...            ...               ...        ...  \n",
       "9669             1                 0          1  \n",
       "9672             1                 0          1  \n",
       "9673             1                 0          1  \n",
       "9674             1                 0          1  \n",
       "9676             1                 0          1  \n",
       "\n",
       "[3480 rows x 12 columns]"
      ]
     },
     "execution_count": 29,
     "metadata": {},
     "output_type": "execute_result"
    }
   ],
   "source": [
    "df_model_1"
   ]
  },
  {
   "cell_type": "code",
   "execution_count": 48,
   "metadata": {},
   "outputs": [],
   "source": [
    "col_use=['tiene_parqueo_bicicletas', 'open_night', 'parqueo',\n",
    "       'rango_precios', 'open_after', 'acepta_tarjeta_credito', 'open_morning',\n",
    "       'abierto_24_horas', 'week_days']\n",
    "\n",
    "#,'estado_AB',\n",
    " #      'estado_AL', 'estado_AZ', 'estado_CA', 'estado_CT', 'estado_IL',\n",
    "  #     'estado_NC', 'estado_NV', 'estado_OH', 'estado_ON', 'estado_PA',\n",
    "   #    'estado_QC', 'estado_SC', 'estado_WI' 'max_min_estrellas', 'max_min_resenas', 'Sentiment',"
   ]
  },
  {
   "cell_type": "code",
   "execution_count": 49,
   "metadata": {},
   "outputs": [],
   "source": [
    "df_model__copy=df_model.copy()[col_use+['metrica_exito']].dropna()\n",
    "df_model_1=df_model[col_use].dropna()\n",
    "clustering = KMeans(n_clusters=15,  max_iter=300) # Crea el modelo\n",
    "clustering.fit(df_model_1) # A\n",
    "df_model__copy[\"kmeans_clusters\"]=clustering.labels_"
   ]
  },
  {
   "cell_type": "code",
   "execution_count": 32,
   "metadata": {},
   "outputs": [
    {
     "data": {
      "text/html": [
       "<div>\n",
       "<style scoped>\n",
       "    .dataframe tbody tr th:only-of-type {\n",
       "        vertical-align: middle;\n",
       "    }\n",
       "\n",
       "    .dataframe tbody tr th {\n",
       "        vertical-align: top;\n",
       "    }\n",
       "\n",
       "    .dataframe thead th {\n",
       "        text-align: right;\n",
       "    }\n",
       "</style>\n",
       "<table border=\"1\" class=\"dataframe\">\n",
       "  <thead>\n",
       "    <tr style=\"text-align: right;\">\n",
       "      <th></th>\n",
       "      <th>Componente_1</th>\n",
       "      <th>Componente_2</th>\n",
       "      <th>Componente_3</th>\n",
       "      <th>kmeans_clusters</th>\n",
       "    </tr>\n",
       "  </thead>\n",
       "  <tbody>\n",
       "    <tr>\n",
       "      <th>0</th>\n",
       "      <td>0.817237</td>\n",
       "      <td>-0.233873</td>\n",
       "      <td>0.671393</td>\n",
       "      <td>10</td>\n",
       "    </tr>\n",
       "    <tr>\n",
       "      <th>1</th>\n",
       "      <td>0.051124</td>\n",
       "      <td>-0.416313</td>\n",
       "      <td>-0.481589</td>\n",
       "      <td>4</td>\n",
       "    </tr>\n",
       "    <tr>\n",
       "      <th>2</th>\n",
       "      <td>0.051124</td>\n",
       "      <td>-0.416313</td>\n",
       "      <td>-0.481589</td>\n",
       "      <td>4</td>\n",
       "    </tr>\n",
       "    <tr>\n",
       "      <th>3</th>\n",
       "      <td>0.817237</td>\n",
       "      <td>-0.233873</td>\n",
       "      <td>0.671393</td>\n",
       "      <td>10</td>\n",
       "    </tr>\n",
       "    <tr>\n",
       "      <th>4</th>\n",
       "      <td>2.003414</td>\n",
       "      <td>-0.347599</td>\n",
       "      <td>-0.056144</td>\n",
       "      <td>11</td>\n",
       "    </tr>\n",
       "  </tbody>\n",
       "</table>\n",
       "</div>"
      ],
      "text/plain": [
       "   Componente_1  Componente_2  Componente_3  kmeans_clusters\n",
       "0      0.817237     -0.233873      0.671393               10\n",
       "1      0.051124     -0.416313     -0.481589                4\n",
       "2      0.051124     -0.416313     -0.481589                4\n",
       "3      0.817237     -0.233873      0.671393               10\n",
       "4      2.003414     -0.347599     -0.056144               11"
      ]
     },
     "execution_count": 32,
     "metadata": {},
     "output_type": "execute_result"
    }
   ],
   "source": [
    "pca = PCA(n_components = 3)\n",
    "pca_user = pca.fit_transform(df_model_1)\n",
    "pca_user_df = pd.DataFrame(data = pca_user, columns = [\"Componente_1\", \"Componente_2\",\"Componente_3\"])\n",
    "pca_nombres_user = pd.concat([pca_user_df , df_model__copy[[\"kmeans_clusters\"]].reset_index(drop=True)], axis=1)\n",
    "pca_nombres_user.head()"
   ]
  },
  {
   "cell_type": "code",
   "execution_count": 33,
   "metadata": {},
   "outputs": [],
   "source": [
    "from mpl_toolkits.mplot3d import Axes3D"
   ]
  },
  {
   "cell_type": "code",
   "execution_count": 34,
   "metadata": {
    "collapsed": true,
    "jupyter": {
     "outputs_hidden": true
    },
    "tags": []
   },
   "outputs": [
    {
     "data": {
      "application/vnd.jupyter.widget-view+json": {
       "model_id": "dee443720dcb44128dd6940b6c34425d",
       "version_major": 2,
       "version_minor": 0
      },
      "text/plain": [
       "Canvas(toolbar=Toolbar(toolitems=[('Home', 'Reset original view', 'home', 'home'), ('Back', 'Back to previous …"
      ]
     },
     "metadata": {},
     "output_type": "display_data"
    }
   ],
   "source": [
    "cmap = plt.cm.Spectral\n",
    "norm = plt.Normalize(vmin=1, vmax=16)\n",
    "z = np.array([1,2,3,4,5,6,7,8,9,10,11,12,13,14,15])\n",
    "\n",
    "fig = plt.figure(figsize=(6,6))\n",
    "ax = Axes3D(fig)\n",
    "ax.set_xlabel(\"Componente 1\", fontsize = 15)\n",
    "ax.set_ylabel(\"Componente 2\", fontsize = 15)\n",
    "ax.set_zlabel(\"Componente 3\", fontsize=15)\n",
    "ax.set_title(\"Componentes principales\", fontsize = 20)\n",
    "\n",
    "color_theme = cmap(norm(z))\n",
    "ax.scatter(pca_nombres_user.Componente_1,  pca_nombres_user.Componente_2,pca_nombres_user.Componente_3, c = color_theme[pca_nombres_user.kmeans_clusters])\n",
    "plt.show()"
   ]
  },
  {
   "cell_type": "code",
   "execution_count": 39,
   "metadata": {},
   "outputs": [],
   "source": [
    "from sklearn.cluster import AgglomerativeClustering\n",
    "from sklearn.cluster import DBSCAN"
   ]
  },
  {
   "cell_type": "code",
   "execution_count": 75,
   "metadata": {},
   "outputs": [
    {
     "name": "stdout",
     "output_type": "stream",
     "text": [
      "For n_clusters = 2 The average silhouette_score is : 0.2963286241564542\n",
      "For n_clusters = 3 The average silhouette_score is : 0.39523486663536206\n",
      "For n_clusters = 4 The average silhouette_score is : 0.4060781979355984\n",
      "For n_clusters = 5 The average silhouette_score is : 0.35576133890301465\n",
      "For n_clusters = 6 The average silhouette_score is : 0.37852922217966256\n",
      "For n_clusters = 7 The average silhouette_score is : 0.1452372452724538\n",
      "For n_clusters = 8 The average silhouette_score is : 0.3421284614179821\n",
      "For n_clusters = 9 The average silhouette_score is : 0.6133530380435837\n",
      "For n_clusters = 10 The average silhouette_score is : 0.5034948277960767\n",
      "For n_clusters = 11 The average silhouette_score is : 0.44896782514295774\n",
      "For n_clusters = 12 The average silhouette_score is : 0.4949958848940853\n",
      "For n_clusters = 13 The average silhouette_score is : 0.622625833539906\n",
      "For n_clusters = 14 The average silhouette_score is : 0.6941691765966078\n",
      "For n_clusters = 15 The average silhouette_score is : 0.5287631138460911\n"
     ]
    }
   ],
   "source": [
    "range_n_clusters =[2,3,4,5,6,7,8,9,10,11,12,13,14,15]\n",
    "X=df_model_1[[ 'tiene_parqueo_bicicletas', 'open_night', 'parqueo', 'rango_precios',\n",
    "       'open_after', 'acepta_tarjeta_credito', 'open_morning',\n",
    "       'abierto_24_horas', 'week_days']].values\n",
    "for n_clusters in range_n_clusters:\n",
    "\n",
    "    clusterer =KModes(n_clusters=n_clusters, init=\"Huang\")\n",
    "    cluster_labels = clusterer.fit_predict(X)\n",
    "    silhouette_avg = silhouette_score(X, cluster_labels)\n",
    "    print(\"For n_clusters =\", n_clusters,\n",
    "          \"The average silhouette_score is :\", silhouette_avg)"
   ]
  },
  {
   "cell_type": "code",
   "execution_count": 48,
   "metadata": {},
   "outputs": [],
   "source": [
    "db = DBSCAN(eps=0.4, min_samples=30)\n"
   ]
  },
  {
   "cell_type": "code",
   "execution_count": 54,
   "metadata": {},
   "outputs": [],
   "source": [
    "cluster_labels=db.fit_predict(X)"
   ]
  },
  {
   "cell_type": "code",
   "execution_count": 55,
   "metadata": {},
   "outputs": [],
   "source": [
    "silhouette_avg = silhouette_score(X, cluster_labels)"
   ]
  },
  {
   "cell_type": "code",
   "execution_count": 56,
   "metadata": {
    "tags": []
   },
   "outputs": [
    {
     "data": {
      "text/plain": [
       "0.873754854018739"
      ]
     },
     "execution_count": 56,
     "metadata": {},
     "output_type": "execute_result"
    }
   ],
   "source": [
    "silhouette_avg"
   ]
  },
  {
   "cell_type": "code",
   "execution_count": 57,
   "metadata": {},
   "outputs": [
    {
     "data": {
      "text/plain": [
       "array([-1,  0,  1,  2,  3,  4,  5,  6,  7,  8,  9, 10, 11, 12, 13, 14, 15,\n",
       "       16, 17], dtype=int64)"
      ]
     },
     "execution_count": 57,
     "metadata": {},
     "output_type": "execute_result"
    }
   ],
   "source": [
    "np.unique(db.labels_)"
   ]
  },
  {
   "cell_type": "code",
   "execution_count": 60,
   "metadata": {},
   "outputs": [],
   "source": [
    "import numpy as np\n",
    "from sklearn.neighbors import NearestNeighbors\n",
    "from matplotlib import pyplot as plt\n",
    "import seaborn as sns\n",
    "sns.set()"
   ]
  },
  {
   "cell_type": "code",
   "execution_count": 72,
   "metadata": {},
   "outputs": [],
   "source": [
    "neigh = NearestNeighbors(n_neighbors=2)\n",
    "nbrs = neigh.fit(X)\n",
    "distances, indices = nbrs.kneighbors(X)"
   ]
  },
  {
   "cell_type": "code",
   "execution_count": 73,
   "metadata": {},
   "outputs": [
    {
     "data": {
      "text/plain": [
       "array([[0., 0.],\n",
       "       [0., 0.],\n",
       "       [0., 0.],\n",
       "       ...,\n",
       "       [0., 0.],\n",
       "       [0., 1.],\n",
       "       [0., 0.]])"
      ]
     },
     "execution_count": 73,
     "metadata": {},
     "output_type": "execute_result"
    }
   ],
   "source": [
    "distances"
   ]
  },
  {
   "cell_type": "code",
   "execution_count": 67,
   "metadata": {},
   "outputs": [],
   "source": [
    "distances = np.sort(distances, axis=0)\n",
    "distances = distances[:,1]"
   ]
  },
  {
   "cell_type": "code",
   "execution_count": 50,
   "metadata": {},
   "outputs": [],
   "source": [
    "import matplotlib.pyplot as plt"
   ]
  },
  {
   "cell_type": "code",
   "execution_count": 51,
   "metadata": {},
   "outputs": [
    {
     "data": {
      "application/vnd.jupyter.widget-view+json": {
       "model_id": "6d64d001068a4f989fe45dd85a128464",
       "version_major": 2,
       "version_minor": 0
      },
      "text/plain": [
       "Canvas(toolbar=Toolbar(toolitems=[('Home', 'Reset original view', 'home', 'home'), ('Back', 'Back to previous …"
      ]
     },
     "metadata": {},
     "output_type": "display_data"
    },
    {
     "data": {
      "text/plain": [
       "<AxesSubplot:>"
      ]
     },
     "execution_count": 51,
     "metadata": {},
     "output_type": "execute_result"
    }
   ],
   "source": [
    "plt.figure()\n",
    "df_model__copy.metrica_exito.hist(bins = 10, figsize = (10,5))"
   ]
  },
  {
   "cell_type": "code",
   "execution_count": 52,
   "metadata": {},
   "outputs": [
    {
     "data": {
      "application/vnd.jupyter.widget-view+json": {
       "model_id": "05671595ecdc4c4e9c3c4485bcc8db08",
       "version_major": 2,
       "version_minor": 0
      },
      "text/plain": [
       "Canvas(toolbar=Toolbar(toolitems=[('Home', 'Reset original view', 'home', 'home'), ('Back', 'Back to previous …"
      ]
     },
     "metadata": {},
     "output_type": "display_data"
    },
    {
     "data": {
      "text/plain": [
       "<AxesSubplot:>"
      ]
     },
     "execution_count": 52,
     "metadata": {},
     "output_type": "execute_result"
    }
   ],
   "source": [
    "plt.figure()\n",
    "df_model__copy.metrica_exito.plot.box()"
   ]
  },
  {
   "cell_type": "code",
   "execution_count": 111,
   "metadata": {},
   "outputs": [],
   "source": [
    "df_model__copy.rango_precios=[float(i) for i in df_model__copy.rango_precios.to_list()]"
   ]
  },
  {
   "cell_type": "code",
   "execution_count": 113,
   "metadata": {},
   "outputs": [
    {
     "data": {
      "text/html": [
       "<div>\n",
       "<style scoped>\n",
       "    .dataframe tbody tr th:only-of-type {\n",
       "        vertical-align: middle;\n",
       "    }\n",
       "\n",
       "    .dataframe tbody tr th {\n",
       "        vertical-align: top;\n",
       "    }\n",
       "\n",
       "    .dataframe thead th {\n",
       "        text-align: right;\n",
       "    }\n",
       "</style>\n",
       "<table border=\"1\" class=\"dataframe\">\n",
       "  <thead>\n",
       "    <tr style=\"text-align: right;\">\n",
       "      <th></th>\n",
       "      <th>tiene_parqueo_bicicletas</th>\n",
       "      <th>open_night</th>\n",
       "      <th>parqueo</th>\n",
       "      <th>rango_precios</th>\n",
       "      <th>open_after</th>\n",
       "      <th>acepta_tarjeta_credito</th>\n",
       "      <th>open_morning</th>\n",
       "      <th>abierto_24_horas</th>\n",
       "      <th>week_days</th>\n",
       "    </tr>\n",
       "  </thead>\n",
       "  <tbody>\n",
       "    <tr>\n",
       "      <th>2</th>\n",
       "      <td>1.0</td>\n",
       "      <td>1</td>\n",
       "      <td>1.0</td>\n",
       "      <td>3</td>\n",
       "      <td>0</td>\n",
       "      <td>1.0</td>\n",
       "      <td>1</td>\n",
       "      <td>0</td>\n",
       "      <td>1</td>\n",
       "    </tr>\n",
       "    <tr>\n",
       "      <th>9</th>\n",
       "      <td>1.0</td>\n",
       "      <td>1</td>\n",
       "      <td>0.0</td>\n",
       "      <td>2</td>\n",
       "      <td>0</td>\n",
       "      <td>1.0</td>\n",
       "      <td>1</td>\n",
       "      <td>0</td>\n",
       "      <td>1</td>\n",
       "    </tr>\n",
       "    <tr>\n",
       "      <th>10</th>\n",
       "      <td>1.0</td>\n",
       "      <td>1</td>\n",
       "      <td>0.0</td>\n",
       "      <td>2</td>\n",
       "      <td>0</td>\n",
       "      <td>1.0</td>\n",
       "      <td>1</td>\n",
       "      <td>0</td>\n",
       "      <td>1</td>\n",
       "    </tr>\n",
       "    <tr>\n",
       "      <th>12</th>\n",
       "      <td>1.0</td>\n",
       "      <td>1</td>\n",
       "      <td>1.0</td>\n",
       "      <td>3</td>\n",
       "      <td>0</td>\n",
       "      <td>1.0</td>\n",
       "      <td>1</td>\n",
       "      <td>0</td>\n",
       "      <td>1</td>\n",
       "    </tr>\n",
       "    <tr>\n",
       "      <th>14</th>\n",
       "      <td>1.0</td>\n",
       "      <td>1</td>\n",
       "      <td>0.0</td>\n",
       "      <td>4</td>\n",
       "      <td>0</td>\n",
       "      <td>1.0</td>\n",
       "      <td>1</td>\n",
       "      <td>0</td>\n",
       "      <td>1</td>\n",
       "    </tr>\n",
       "    <tr>\n",
       "      <th>...</th>\n",
       "      <td>...</td>\n",
       "      <td>...</td>\n",
       "      <td>...</td>\n",
       "      <td>...</td>\n",
       "      <td>...</td>\n",
       "      <td>...</td>\n",
       "      <td>...</td>\n",
       "      <td>...</td>\n",
       "      <td>...</td>\n",
       "    </tr>\n",
       "    <tr>\n",
       "      <th>9669</th>\n",
       "      <td>1.0</td>\n",
       "      <td>1</td>\n",
       "      <td>1.0</td>\n",
       "      <td>2.0</td>\n",
       "      <td>0</td>\n",
       "      <td>1.0</td>\n",
       "      <td>1</td>\n",
       "      <td>0</td>\n",
       "      <td>1</td>\n",
       "    </tr>\n",
       "    <tr>\n",
       "      <th>9672</th>\n",
       "      <td>1.0</td>\n",
       "      <td>0</td>\n",
       "      <td>0.0</td>\n",
       "      <td>2.0</td>\n",
       "      <td>1</td>\n",
       "      <td>1.0</td>\n",
       "      <td>1</td>\n",
       "      <td>0</td>\n",
       "      <td>1</td>\n",
       "    </tr>\n",
       "    <tr>\n",
       "      <th>9673</th>\n",
       "      <td>1.0</td>\n",
       "      <td>1</td>\n",
       "      <td>0.0</td>\n",
       "      <td>1.0</td>\n",
       "      <td>0</td>\n",
       "      <td>1.0</td>\n",
       "      <td>1</td>\n",
       "      <td>0</td>\n",
       "      <td>1</td>\n",
       "    </tr>\n",
       "    <tr>\n",
       "      <th>9674</th>\n",
       "      <td>1.0</td>\n",
       "      <td>0</td>\n",
       "      <td>1.0</td>\n",
       "      <td>1.0</td>\n",
       "      <td>0</td>\n",
       "      <td>1.0</td>\n",
       "      <td>1</td>\n",
       "      <td>0</td>\n",
       "      <td>1</td>\n",
       "    </tr>\n",
       "    <tr>\n",
       "      <th>9676</th>\n",
       "      <td>1.0</td>\n",
       "      <td>0</td>\n",
       "      <td>1.0</td>\n",
       "      <td>1.0</td>\n",
       "      <td>1</td>\n",
       "      <td>1.0</td>\n",
       "      <td>1</td>\n",
       "      <td>0</td>\n",
       "      <td>1</td>\n",
       "    </tr>\n",
       "  </tbody>\n",
       "</table>\n",
       "<p>3480 rows × 9 columns</p>\n",
       "</div>"
      ],
      "text/plain": [
       "      tiene_parqueo_bicicletas  open_night  parqueo rango_precios  open_after  \\\n",
       "2                          1.0           1      1.0             3           0   \n",
       "9                          1.0           1      0.0             2           0   \n",
       "10                         1.0           1      0.0             2           0   \n",
       "12                         1.0           1      1.0             3           0   \n",
       "14                         1.0           1      0.0             4           0   \n",
       "...                        ...         ...      ...           ...         ...   \n",
       "9669                       1.0           1      1.0           2.0           0   \n",
       "9672                       1.0           0      0.0           2.0           1   \n",
       "9673                       1.0           1      0.0           1.0           0   \n",
       "9674                       1.0           0      1.0           1.0           0   \n",
       "9676                       1.0           0      1.0           1.0           1   \n",
       "\n",
       "      acepta_tarjeta_credito  open_morning  abierto_24_horas  week_days  \n",
       "2                        1.0             1                 0          1  \n",
       "9                        1.0             1                 0          1  \n",
       "10                       1.0             1                 0          1  \n",
       "12                       1.0             1                 0          1  \n",
       "14                       1.0             1                 0          1  \n",
       "...                      ...           ...               ...        ...  \n",
       "9669                     1.0             1                 0          1  \n",
       "9672                     1.0             1                 0          1  \n",
       "9673                     1.0             1                 0          1  \n",
       "9674                     1.0             1                 0          1  \n",
       "9676                     1.0             1                 0          1  \n",
       "\n",
       "[3480 rows x 9 columns]"
      ]
     },
     "execution_count": 113,
     "metadata": {},
     "output_type": "execute_result"
    }
   ],
   "source": [
    "df_model_1"
   ]
  },
  {
   "cell_type": "code",
   "execution_count": 118,
   "metadata": {},
   "outputs": [
    {
     "data": {
      "text/html": [
       "<div>\n",
       "<style scoped>\n",
       "    .dataframe tbody tr th:only-of-type {\n",
       "        vertical-align: middle;\n",
       "    }\n",
       "\n",
       "    .dataframe tbody tr th {\n",
       "        vertical-align: top;\n",
       "    }\n",
       "\n",
       "    .dataframe thead th {\n",
       "        text-align: right;\n",
       "    }\n",
       "</style>\n",
       "<table border=\"1\" class=\"dataframe\">\n",
       "  <thead>\n",
       "    <tr style=\"text-align: right;\">\n",
       "      <th></th>\n",
       "      <th>tiene_parqueo_bicicletas</th>\n",
       "      <th>open_night</th>\n",
       "      <th>parqueo</th>\n",
       "      <th>rango_precios</th>\n",
       "      <th>open_after</th>\n",
       "      <th>acepta_tarjeta_credito</th>\n",
       "      <th>open_morning</th>\n",
       "      <th>abierto_24_horas</th>\n",
       "      <th>week_days</th>\n",
       "    </tr>\n",
       "  </thead>\n",
       "  <tbody>\n",
       "    <tr>\n",
       "      <th>2</th>\n",
       "      <td>1.0</td>\n",
       "      <td>1</td>\n",
       "      <td>1.0</td>\n",
       "      <td>3.0</td>\n",
       "      <td>0</td>\n",
       "      <td>1.0</td>\n",
       "      <td>1</td>\n",
       "      <td>0</td>\n",
       "      <td>1</td>\n",
       "    </tr>\n",
       "    <tr>\n",
       "      <th>9</th>\n",
       "      <td>1.0</td>\n",
       "      <td>1</td>\n",
       "      <td>0.0</td>\n",
       "      <td>2.0</td>\n",
       "      <td>0</td>\n",
       "      <td>1.0</td>\n",
       "      <td>1</td>\n",
       "      <td>0</td>\n",
       "      <td>1</td>\n",
       "    </tr>\n",
       "    <tr>\n",
       "      <th>10</th>\n",
       "      <td>1.0</td>\n",
       "      <td>1</td>\n",
       "      <td>0.0</td>\n",
       "      <td>2.0</td>\n",
       "      <td>0</td>\n",
       "      <td>1.0</td>\n",
       "      <td>1</td>\n",
       "      <td>0</td>\n",
       "      <td>1</td>\n",
       "    </tr>\n",
       "    <tr>\n",
       "      <th>12</th>\n",
       "      <td>1.0</td>\n",
       "      <td>1</td>\n",
       "      <td>1.0</td>\n",
       "      <td>3.0</td>\n",
       "      <td>0</td>\n",
       "      <td>1.0</td>\n",
       "      <td>1</td>\n",
       "      <td>0</td>\n",
       "      <td>1</td>\n",
       "    </tr>\n",
       "    <tr>\n",
       "      <th>14</th>\n",
       "      <td>1.0</td>\n",
       "      <td>1</td>\n",
       "      <td>0.0</td>\n",
       "      <td>4.0</td>\n",
       "      <td>0</td>\n",
       "      <td>1.0</td>\n",
       "      <td>1</td>\n",
       "      <td>0</td>\n",
       "      <td>1</td>\n",
       "    </tr>\n",
       "    <tr>\n",
       "      <th>...</th>\n",
       "      <td>...</td>\n",
       "      <td>...</td>\n",
       "      <td>...</td>\n",
       "      <td>...</td>\n",
       "      <td>...</td>\n",
       "      <td>...</td>\n",
       "      <td>...</td>\n",
       "      <td>...</td>\n",
       "      <td>...</td>\n",
       "    </tr>\n",
       "    <tr>\n",
       "      <th>9669</th>\n",
       "      <td>1.0</td>\n",
       "      <td>1</td>\n",
       "      <td>1.0</td>\n",
       "      <td>2.0</td>\n",
       "      <td>0</td>\n",
       "      <td>1.0</td>\n",
       "      <td>1</td>\n",
       "      <td>0</td>\n",
       "      <td>1</td>\n",
       "    </tr>\n",
       "    <tr>\n",
       "      <th>9672</th>\n",
       "      <td>1.0</td>\n",
       "      <td>0</td>\n",
       "      <td>0.0</td>\n",
       "      <td>2.0</td>\n",
       "      <td>1</td>\n",
       "      <td>1.0</td>\n",
       "      <td>1</td>\n",
       "      <td>0</td>\n",
       "      <td>1</td>\n",
       "    </tr>\n",
       "    <tr>\n",
       "      <th>9673</th>\n",
       "      <td>1.0</td>\n",
       "      <td>1</td>\n",
       "      <td>0.0</td>\n",
       "      <td>1.0</td>\n",
       "      <td>0</td>\n",
       "      <td>1.0</td>\n",
       "      <td>1</td>\n",
       "      <td>0</td>\n",
       "      <td>1</td>\n",
       "    </tr>\n",
       "    <tr>\n",
       "      <th>9674</th>\n",
       "      <td>1.0</td>\n",
       "      <td>0</td>\n",
       "      <td>1.0</td>\n",
       "      <td>1.0</td>\n",
       "      <td>0</td>\n",
       "      <td>1.0</td>\n",
       "      <td>1</td>\n",
       "      <td>0</td>\n",
       "      <td>1</td>\n",
       "    </tr>\n",
       "    <tr>\n",
       "      <th>9676</th>\n",
       "      <td>1.0</td>\n",
       "      <td>0</td>\n",
       "      <td>1.0</td>\n",
       "      <td>1.0</td>\n",
       "      <td>1</td>\n",
       "      <td>1.0</td>\n",
       "      <td>1</td>\n",
       "      <td>0</td>\n",
       "      <td>1</td>\n",
       "    </tr>\n",
       "  </tbody>\n",
       "</table>\n",
       "<p>3480 rows × 9 columns</p>\n",
       "</div>"
      ],
      "text/plain": [
       "      tiene_parqueo_bicicletas  open_night  parqueo  rango_precios  \\\n",
       "2                          1.0           1      1.0            3.0   \n",
       "9                          1.0           1      0.0            2.0   \n",
       "10                         1.0           1      0.0            2.0   \n",
       "12                         1.0           1      1.0            3.0   \n",
       "14                         1.0           1      0.0            4.0   \n",
       "...                        ...         ...      ...            ...   \n",
       "9669                       1.0           1      1.0            2.0   \n",
       "9672                       1.0           0      0.0            2.0   \n",
       "9673                       1.0           1      0.0            1.0   \n",
       "9674                       1.0           0      1.0            1.0   \n",
       "9676                       1.0           0      1.0            1.0   \n",
       "\n",
       "      open_after  acepta_tarjeta_credito  open_morning  abierto_24_horas  \\\n",
       "2              0                     1.0             1                 0   \n",
       "9              0                     1.0             1                 0   \n",
       "10             0                     1.0             1                 0   \n",
       "12             0                     1.0             1                 0   \n",
       "14             0                     1.0             1                 0   \n",
       "...          ...                     ...           ...               ...   \n",
       "9669           0                     1.0             1                 0   \n",
       "9672           1                     1.0             1                 0   \n",
       "9673           0                     1.0             1                 0   \n",
       "9674           0                     1.0             1                 0   \n",
       "9676           1                     1.0             1                 0   \n",
       "\n",
       "      week_days  \n",
       "2             1  \n",
       "9             1  \n",
       "10            1  \n",
       "12            1  \n",
       "14            1  \n",
       "...         ...  \n",
       "9669          1  \n",
       "9672          1  \n",
       "9673          1  \n",
       "9674          1  \n",
       "9676          1  \n",
       "\n",
       "[3480 rows x 9 columns]"
      ]
     },
     "execution_count": 118,
     "metadata": {},
     "output_type": "execute_result"
    }
   ],
   "source": [
    "df_model__copy[['tiene_parqueo_bicicletas', 'open_night', 'parqueo', 'rango_precios',\n",
    "       'open_after', 'acepta_tarjeta_credito', 'open_morning',\n",
    "       'abierto_24_horas', 'week_days']]"
   ]
  },
  {
   "cell_type": "code",
   "execution_count": 127,
   "metadata": {},
   "outputs": [
    {
     "data": {
      "text/plain": [
       "array([1.])"
      ]
     },
     "execution_count": 127,
     "metadata": {},
     "output_type": "execute_result"
    }
   ],
   "source": [
    "df_model__copy.acepta_tarjeta_credito.unique()"
   ]
  },
  {
   "cell_type": "code",
   "execution_count": 130,
   "metadata": {},
   "outputs": [
    {
     "data": {
      "text/plain": [
       "array([nan,  1.])"
      ]
     },
     "execution_count": 130,
     "metadata": {},
     "output_type": "execute_result"
    }
   ],
   "source": [
    "df_model.acepta_tarjeta_credito.unique()"
   ]
  },
  {
   "cell_type": "code",
   "execution_count": 34,
   "metadata": {},
   "outputs": [],
   "source": [
    "import pickle\n",
    "from df_categories import *\n",
    "file=open(\"../analyze/dict_cate_p_a_s\",\"rb\")\n",
    "filename=\"../files/negocio.csv\"\n",
    "dict_categories=pickle.load(file)\n",
    "file.close()"
   ]
  },
  {
   "cell_type": "code",
   "execution_count": 35,
   "metadata": {},
   "outputs": [
    {
     "output_type": "stream",
     "name": "stderr",
     "text": [
      "C:\\Users\\caloja\\AppData\\Local\\Programs\\Python\\Python37\\lib\\site-packages\\IPython\\core\\interactiveshell.py:3357: DtypeWarning: Columns (16,49,52,53,54) have mixed types.Specify dtype option on import or set low_memory=False.\n",
      "  if (await self.run_code(code, result,  async_=asy)):\n",
      "C:\\Users\\caloja\\AppData\\Local\\Programs\\Python\\Python37\\lib\\site-packages\\pandas\\core\\generic.py:5494: SettingWithCopyWarning: \n",
      "A value is trying to be set on a copy of a slice from a DataFrame.\n",
      "Try using .loc[row_indexer,col_indexer] = value instead\n",
      "\n",
      "See the caveats in the documentation: https://pandas.pydata.org/pandas-docs/stable/user_guide/indexing.html#returning-a-view-versus-a-copy\n",
      "  self[name] = value\n"
     ]
    }
   ],
   "source": [
    "dfs=get_dataframe_with_category(dict_categories,filename)"
   ]
  },
  {
   "cell_type": "code",
   "execution_count": 45,
   "metadata": {},
   "outputs": [
    {
     "output_type": "stream",
     "name": "stderr",
     "text": [
      "C:\\Users\\caloja\\AppData\\Local\\Programs\\Python\\Python37\\lib\\site-packages\\IPython\\core\\interactiveshell.py:3437: DtypeWarning: Columns (16,49,52,53,54) have mixed types.Specify dtype option on import or set low_memory=False.\n",
      "  exec(code_obj, self.user_global_ns, self.user_ns)\n",
      "C:\\Users\\caloja\\AppData\\Local\\Programs\\Python\\Python37\\lib\\site-packages\\pandas\\core\\generic.py:5494: SettingWithCopyWarning: \n",
      "A value is trying to be set on a copy of a slice from a DataFrame.\n",
      "Try using .loc[row_indexer,col_indexer] = value instead\n",
      "\n",
      "See the caveats in the documentation: https://pandas.pydata.org/pandas-docs/stable/user_guide/indexing.html#returning-a-view-versus-a-copy\n",
      "  self[name] = value\n"
     ]
    }
   ],
   "source": [
    "dict_dfs=get_dataframes_by_categories(dict_categories,filename)"
   ]
  },
  {
   "cell_type": "code",
   "execution_count": 46,
   "metadata": {},
   "outputs": [],
   "source": [
    "products_df=dict_dfs[\"product\"]\n",
    "services_df=dict_dfs[\"services\"]\n",
    "alimentations_df=dict_dfs[\"alimentation\"]"
   ]
  },
  {
   "cell_type": "code",
   "execution_count": 47,
   "metadata": {},
   "outputs": [],
   "source": [
    "import matplotlib.pyplot as plt"
   ]
  },
  {
   "cell_type": "code",
   "execution_count": 48,
   "metadata": {},
   "outputs": [],
   "source": [
    "import numpy as np\n",
    "from scipy import stats"
   ]
  },
  {
   "cell_type": "code",
   "execution_count": 49,
   "metadata": {},
   "outputs": [],
   "source": [
    "def plot_by_day(df,title):\n",
    "    columnas=df.columns\n",
    "    n=0\n",
    "    fig, axs=plt.subplots(2,4)\n",
    "    fig.suptitle(title)\n",
    "    fig.set_size_inches(10, 10)\n",
    "    for i in range(2):\n",
    "        for j in range(4):\n",
    "            if n!= len(columnas):\n",
    "                colname=columnas[n]\n",
    "                data=df[colname]\n",
    "                axs[i,j].hist(data,weights=np.zeros_like(data+1. / len(data)))\n",
    "                axs[i,j].set_title(f\"{colname}\")\n",
    "                n+=1"
   ]
  },
  {
   "cell_type": "code",
   "execution_count": 55,
   "metadata": {},
   "outputs": [],
   "source": [
    "def plotDf(df,title,general_title,subtitle):\n",
    "    columnas=df.columns\n",
    "    n=0\n",
    "    fig, axs=plt.subplots(2,4)\n",
    "    fig.suptitle(f\"{general_title}-{title}\")\n",
    "    fig.set_size_inches(10, 10)\n",
    "    for i in range(2):\n",
    "        for j in range(4):\n",
    "            if n!=len(columnas):\n",
    "                colname=columnas[n]\n",
    "                data=df[colname].dropna().to_numpy()\n",
    "                unicos=np.unique(data)\n",
    "\n",
    "                res = stats.relfreq(data, numbins=len(unicos))\n",
    "                x = res.lowerlimit + np.linspace(0, res.binsize*res.frequency.size,res.frequency.size)\n",
    "\n",
    "                axs[i,j].bar(x,res.frequency,width=res.binsize)\n",
    "                axs[i,j].set_title(f\"{colname}\")\n",
    "                n+=1\n",
    "    fig.savefig(f\"../files/images/{general_title}_{subtitle}_{title}.png\")\n",
    "    plt.close(fig)"
   ]
  },
  {
   "cell_type": "code",
   "execution_count": 56,
   "metadata": {},
   "outputs": [],
   "source": [
    "def plot_all_df(df,general_title):\n",
    "    p_exito_df=df[df.metrica_exito>=0.7]\n",
    "    p_medio_df=df[df.metrica_exito<0.7]\n",
    "    p_exito_df=df[df.metrica_exito>0.4]\n",
    "    p_fracaso_df=df[df.metrica_exito<=0.4]\n",
    "    \n",
    "    cols1=['horario_atencion_lunes_y', 'horario_atencion_martes_y',\n",
    "       'horario_atencion_miercoles_y', 'horario_atencion_jueves_y',\n",
    "       'horario_atencion_viernes_y', 'horario_atencion_sabado_y',\n",
    "       'horario_atencion_domingo_y']\n",
    "    cols2=['tiene_parqueo_bicicletas', 'parqueo', 'rango_precios', 'acepta_tarjeta_credito',\n",
    "                            'abierto_24_horas', 'week_days','weekend_days']\n",
    "    \n",
    "    list_dfs_cat=[p_exito_df,p_medio_df,p_fracaso_df]\n",
    "    for l_df,name in zip(list_dfs_cat,[\"Exito\",\"Medio\",\"Fracaso\"]):\n",
    "        plotDf(l_df[cols1],name,general_title,\"atencion_horario\")\n",
    "        plotDf(l_df[cols2],name,general_title,\"categoricas\")\n",
    "        \n",
    "        "
   ]
  },
  {
   "cell_type": "code",
   "execution_count": 57,
   "metadata": {},
   "outputs": [],
   "source": [
    "plot_all_df(dfs,\"negocios\")"
   ]
  },
  {
   "cell_type": "code",
   "execution_count": 58,
   "metadata": {
    "collapsed": true,
    "jupyter": {
     "outputs_hidden": true
    },
    "tags": []
   },
   "outputs": [],
   "source": [
    "plot_all_df(products_df,\"productos\")"
   ]
  },
  {
   "cell_type": "code",
   "execution_count": 59,
   "metadata": {
    "collapsed": true,
    "jupyter": {
     "outputs_hidden": true
    },
    "tags": []
   },
   "outputs": [],
   "source": [
    "plot_all_df(services_df,\"servicios\")"
   ]
  },
  {
   "cell_type": "code",
   "execution_count": 60,
   "metadata": {
    "collapsed": true,
    "jupyter": {
     "outputs_hidden": true
    },
    "tags": []
   },
   "outputs": [],
   "source": [
    "plot_all_df(alimentations_df,\"alimentos\")"
   ]
  },
  {
   "cell_type": "code",
   "execution_count": 10,
   "metadata": {},
   "outputs": [],
   "source": [
    "p_exito_df=products_df[products_df.metrica_exito>=0.7]\n",
    "p_medio_df=products_df[products_df.metrica_exito<0.7]\n",
    "p_medio_df=products_df[products_df.metrica_exito>0.4]\n",
    "p_fracaso_df=products_df[products_df.metrica_exito<=0.4]"
   ]
  },
  {
   "cell_type": "code",
   "execution_count": 34,
   "metadata": {},
   "outputs": [],
   "source": [
    "cols=['horario_atencion_lunes_y', 'horario_atencion_martes_y',\n",
    "       'horario_atencion_miercoles_y', 'horario_atencion_jueves_y',\n",
    "       'horario_atencion_viernes_y', 'horario_atencion_sabado_y',\n",
    "       'horario_atencion_domingo_y']"
   ]
  },
  {
   "cell_type": "code",
   "execution_count": 58,
   "metadata": {},
   "outputs": [
    {
     "name": "stderr",
     "output_type": "stream",
     "text": [
      "c:\\users\\caloja\\appdata\\local\\programs\\python\\python37\\lib\\site-packages\\ipykernel_launcher.py:4: RuntimeWarning: More than 20 figures have been opened. Figures created through the pyplot interface (`matplotlib.pyplot.figure`) are retained until explicitly closed and may consume too much memory. (To control this warning, see the rcParam `figure.max_open_warning`).\n",
      "  after removing the cwd from sys.path.\n"
     ]
    },
    {
     "data": {
      "application/vnd.jupyter.widget-view+json": {
       "model_id": "e4df1f55b2294a5bb5f3077861e5864c",
       "version_major": 2,
       "version_minor": 0
      },
      "text/plain": [
       "Canvas(toolbar=Toolbar(toolitems=[('Home', 'Reset original view', 'home', 'home'), ('Back', 'Back to previous …"
      ]
     },
     "metadata": {},
     "output_type": "display_data"
    },
    {
     "data": {
      "application/vnd.jupyter.widget-view+json": {
       "model_id": "90bc9b04b7ca4047857dd5ff51ce899e",
       "version_major": 2,
       "version_minor": 0
      },
      "text/plain": [
       "Canvas(toolbar=Toolbar(toolitems=[('Home', 'Reset original view', 'home', 'home'), ('Back', 'Back to previous …"
      ]
     },
     "metadata": {},
     "output_type": "display_data"
    }
   ],
   "source": [
    "plot_by_day(p_medio_df[cols],\"Medio\")\n",
    "plt.savefig(\"f3.png\")\n",
    "plot_by_day(p_fracaso_df[cols],\"Fracaso\")\n",
    "plt.savefig(\"f4.png\")"
   ]
  },
  {
   "cell_type": "code",
   "execution_count": 56,
   "metadata": {},
   "outputs": [
    {
     "data": {
      "application/vnd.jupyter.widget-view+json": {
       "model_id": "e4e9ce48534e41d1a29c6caeef2f0f8f",
       "version_major": 2,
       "version_minor": 0
      },
      "text/plain": [
       "Canvas(toolbar=Toolbar(toolitems=[('Home', 'Reset original view', 'home', 'home'), ('Back', 'Back to previous …"
      ]
     },
     "metadata": {},
     "output_type": "display_data"
    }
   ],
   "source": []
  },
  {
   "cell_type": "code",
   "execution_count": 12,
   "metadata": {},
   "outputs": [],
   "source": [
    "new_product_df=products_df[['tiene_parqueo_bicicletas', 'parqueo', 'rango_precios', 'acepta_tarjeta_credito',\n",
    "                            'abierto_24_horas', 'week_days','metrica_exito','weekend_days']].dropna()"
   ]
  },
  {
   "cell_type": "code",
   "execution_count": 13,
   "metadata": {},
   "outputs": [],
   "source": [
    "exito_df=new_product_df[new_product_df.metrica_exito>=0.7]\n",
    "medio_df=new_product_df[new_product_df.metrica_exito<0.7]\n",
    "medio_df=new_product_df[new_product_df.metrica_exito>0.4]\n",
    "fracaso_df=new_product_df[new_product_df.metrica_exito<=0.4]"
   ]
  },
  {
   "cell_type": "code",
   "execution_count": 14,
   "metadata": {},
   "outputs": [],
   "source": [
    "import matplotlib.pyplot as plt"
   ]
  },
  {
   "cell_type": "code",
   "execution_count": 14,
   "metadata": {},
   "outputs": [],
   "source": [
    "\n",
    "            "
   ]
  },
  {
   "cell_type": "code",
   "execution_count": 52,
   "metadata": {},
   "outputs": [
    {
     "data": {
      "application/vnd.jupyter.widget-view+json": {
       "model_id": "83642e8f061c4dae8aa60432f179f23d",
       "version_major": 2,
       "version_minor": 0
      },
      "text/plain": [
       "Canvas(toolbar=Toolbar(toolitems=[('Home', 'Reset original view', 'home', 'home'), ('Back', 'Back to previous …"
      ]
     },
     "metadata": {},
     "output_type": "display_data"
    }
   ],
   "source": [
    "plotDf(exito_df[['tiene_parqueo_bicicletas', 'parqueo', 'rango_precios', 'acepta_tarjeta_credito',\n",
    "                            'abierto_24_horas', 'week_days','weekend_days']],\"Exito\")"
   ]
  },
  {
   "cell_type": "code",
   "execution_count": 53,
   "metadata": {},
   "outputs": [
    {
     "data": {
      "application/vnd.jupyter.widget-view+json": {
       "model_id": "8535d0c2e14e42d5ad6b2c04778ebe59",
       "version_major": 2,
       "version_minor": 0
      },
      "text/plain": [
       "Canvas(toolbar=Toolbar(toolitems=[('Home', 'Reset original view', 'home', 'home'), ('Back', 'Back to previous …"
      ]
     },
     "metadata": {},
     "output_type": "display_data"
    }
   ],
   "source": [
    "plotDf(medio_df[['tiene_parqueo_bicicletas', 'parqueo', 'rango_precios', 'acepta_tarjeta_credito',\n",
    "                            'abierto_24_horas', 'week_days','weekend_days']],\"Medio\")"
   ]
  },
  {
   "cell_type": "code",
   "execution_count": 97,
   "metadata": {},
   "outputs": [
    {
     "data": {
      "application/vnd.jupyter.widget-view+json": {
       "model_id": "78b6b320aa704def98915b9666d0ca9e",
       "version_major": 2,
       "version_minor": 0
      },
      "text/plain": [
       "Canvas(toolbar=Toolbar(toolitems=[('Home', 'Reset original view', 'home', 'home'), ('Back', 'Back to previous …"
      ]
     },
     "metadata": {},
     "output_type": "display_data"
    }
   ],
   "source": [
    "plotDf(fracaso_df[['tiene_parqueo_bicicletas', 'open_night', 'parqueo', 'rango_precios',\n",
    "       'open_after', 'acepta_tarjeta_credito', 'open_morning',\n",
    "       'abierto_24_horas', 'week_days']],\"Fracaso\")"
   ]
  },
  {
   "cell_type": "code",
   "execution_count": 15,
   "metadata": {},
   "outputs": [],
   "source": [
    "l=list(products_df[products_df.metrica_exito>=0.7].categorias)"
   ]
  },
  {
   "cell_type": "code",
   "execution_count": 16,
   "metadata": {
    "collapsed": true,
    "jupyter": {
     "outputs_hidden": true
    },
    "tags": []
   },
   "outputs": [],
   "source": [
    "s=set()\n",
    "for i in l:\n",
    "    i_split=i.strip().split(\",\")\n",
    "    for j in i_split:\n",
    "        s.add(j.strip())"
   ]
  },
  {
   "cell_type": "code",
   "execution_count": 38,
   "metadata": {},
   "outputs": [],
   "source": [
    "p_df=products_df[['tiene_parqueo_bicicletas', 'parqueo', 'rango_precios', 'acepta_tarjeta_credito',\n",
    "                            'abierto_24_horas', 'week_days','metrica_exito','weekend_days', \"metrica_exito\"]]"
   ]
  },
  {
   "cell_type": "code",
   "execution_count": 39,
   "metadata": {},
   "outputs": [],
   "source": [
    "eliminados=list(p_df.dropna().index)"
   ]
  },
  {
   "cell_type": "code",
   "execution_count": 45,
   "metadata": {},
   "outputs": [
    {
     "output_type": "execute_result",
     "data": {
      "text/plain": [
       "       tiene_parqueo_bicicletas      parqueo  rango_precios  \\\n",
       "count               1835.000000  2852.000000    2806.000000   \n",
       "mean                   0.810899     0.125526       2.266215   \n",
       "std                    0.391695     0.331372       0.760930   \n",
       "min                    0.000000     0.000000       1.000000   \n",
       "25%                    1.000000     0.000000       2.000000   \n",
       "50%                    1.000000     0.000000       2.000000   \n",
       "75%                    1.000000     0.000000       3.000000   \n",
       "max                    1.000000     1.000000       4.000000   \n",
       "\n",
       "       acepta_tarjeta_credito  abierto_24_horas    week_days  metrica_exito  \\\n",
       "count             2450.000000       5829.000000  5829.000000    5829.000000   \n",
       "mean                 0.898367          0.015783     0.997770       0.439585   \n",
       "std                  0.302226          0.124646     0.047177       0.153548   \n",
       "min                  0.000000          0.000000     0.000000       0.000000   \n",
       "25%                  1.000000          0.000000     1.000000       0.334483   \n",
       "50%                  1.000000          0.000000     1.000000       0.450000   \n",
       "75%                  1.000000          0.000000     1.000000       0.556897   \n",
       "max                  1.000000          1.000000     1.000000       0.995556   \n",
       "\n",
       "       weekend_days  metrica_exito  \n",
       "count   5829.000000    5829.000000  \n",
       "mean       0.914908       0.439585  \n",
       "std        0.279042       0.153548  \n",
       "min        0.000000       0.000000  \n",
       "25%        1.000000       0.334483  \n",
       "50%        1.000000       0.450000  \n",
       "75%        1.000000       0.556897  \n",
       "max        1.000000       0.995556  "
      ],
      "text/html": "<div>\n<style scoped>\n    .dataframe tbody tr th:only-of-type {\n        vertical-align: middle;\n    }\n\n    .dataframe tbody tr th {\n        vertical-align: top;\n    }\n\n    .dataframe thead th {\n        text-align: right;\n    }\n</style>\n<table border=\"1\" class=\"dataframe\">\n  <thead>\n    <tr style=\"text-align: right;\">\n      <th></th>\n      <th>tiene_parqueo_bicicletas</th>\n      <th>parqueo</th>\n      <th>rango_precios</th>\n      <th>acepta_tarjeta_credito</th>\n      <th>abierto_24_horas</th>\n      <th>week_days</th>\n      <th>metrica_exito</th>\n      <th>weekend_days</th>\n      <th>metrica_exito</th>\n    </tr>\n  </thead>\n  <tbody>\n    <tr>\n      <th>count</th>\n      <td>1835.000000</td>\n      <td>2852.000000</td>\n      <td>2806.000000</td>\n      <td>2450.000000</td>\n      <td>5829.000000</td>\n      <td>5829.000000</td>\n      <td>5829.000000</td>\n      <td>5829.000000</td>\n      <td>5829.000000</td>\n    </tr>\n    <tr>\n      <th>mean</th>\n      <td>0.810899</td>\n      <td>0.125526</td>\n      <td>2.266215</td>\n      <td>0.898367</td>\n      <td>0.015783</td>\n      <td>0.997770</td>\n      <td>0.439585</td>\n      <td>0.914908</td>\n      <td>0.439585</td>\n    </tr>\n    <tr>\n      <th>std</th>\n      <td>0.391695</td>\n      <td>0.331372</td>\n      <td>0.760930</td>\n      <td>0.302226</td>\n      <td>0.124646</td>\n      <td>0.047177</td>\n      <td>0.153548</td>\n      <td>0.279042</td>\n      <td>0.153548</td>\n    </tr>\n    <tr>\n      <th>min</th>\n      <td>0.000000</td>\n      <td>0.000000</td>\n      <td>1.000000</td>\n      <td>0.000000</td>\n      <td>0.000000</td>\n      <td>0.000000</td>\n      <td>0.000000</td>\n      <td>0.000000</td>\n      <td>0.000000</td>\n    </tr>\n    <tr>\n      <th>25%</th>\n      <td>1.000000</td>\n      <td>0.000000</td>\n      <td>2.000000</td>\n      <td>1.000000</td>\n      <td>0.000000</td>\n      <td>1.000000</td>\n      <td>0.334483</td>\n      <td>1.000000</td>\n      <td>0.334483</td>\n    </tr>\n    <tr>\n      <th>50%</th>\n      <td>1.000000</td>\n      <td>0.000000</td>\n      <td>2.000000</td>\n      <td>1.000000</td>\n      <td>0.000000</td>\n      <td>1.000000</td>\n      <td>0.450000</td>\n      <td>1.000000</td>\n      <td>0.450000</td>\n    </tr>\n    <tr>\n      <th>75%</th>\n      <td>1.000000</td>\n      <td>0.000000</td>\n      <td>3.000000</td>\n      <td>1.000000</td>\n      <td>0.000000</td>\n      <td>1.000000</td>\n      <td>0.556897</td>\n      <td>1.000000</td>\n      <td>0.556897</td>\n    </tr>\n    <tr>\n      <th>max</th>\n      <td>1.000000</td>\n      <td>1.000000</td>\n      <td>4.000000</td>\n      <td>1.000000</td>\n      <td>1.000000</td>\n      <td>1.000000</td>\n      <td>0.995556</td>\n      <td>1.000000</td>\n      <td>0.995556</td>\n    </tr>\n  </tbody>\n</table>\n</div>"
     },
     "metadata": {},
     "execution_count": 45
    }
   ],
   "source": [
    "p_df[~p_df.index.isin(eliminados)].describe()"
   ]
  },
  {
   "cell_type": "code",
   "execution_count": 46,
   "metadata": {},
   "outputs": [
    {
     "output_type": "execute_result",
     "data": {
      "text/plain": [
       "       tiene_parqueo_bicicletas      parqueo  rango_precios  \\\n",
       "count               3773.000000  3773.000000    3773.000000   \n",
       "mean                   0.751391     0.169626       2.077922   \n",
       "std                    0.432264     0.375354       0.698258   \n",
       "min                    0.000000     0.000000       1.000000   \n",
       "25%                    1.000000     0.000000       2.000000   \n",
       "50%                    1.000000     0.000000       2.000000   \n",
       "75%                    1.000000     0.000000       2.000000   \n",
       "max                    1.000000     1.000000       4.000000   \n",
       "\n",
       "       acepta_tarjeta_credito  abierto_24_horas    week_days  metrica_exito  \\\n",
       "count             3773.000000       3773.000000  3773.000000    3773.000000   \n",
       "mean                 0.991254          0.022263     0.997350       0.526419   \n",
       "std                  0.093124          0.147559     0.051421       0.146538   \n",
       "min                  0.000000          0.000000     0.000000       0.000000   \n",
       "25%                  1.000000          0.000000     1.000000       0.430460   \n",
       "50%                  1.000000          0.000000     1.000000       0.530690   \n",
       "75%                  1.000000          0.000000     1.000000       0.617374   \n",
       "max                  1.000000          1.000000     1.000000       1.000000   \n",
       "\n",
       "       weekend_days  metrica_exito  \n",
       "count   3773.000000    3773.000000  \n",
       "mean       0.960509       0.526419  \n",
       "std        0.194786       0.146538  \n",
       "min        0.000000       0.000000  \n",
       "25%        1.000000       0.430460  \n",
       "50%        1.000000       0.530690  \n",
       "75%        1.000000       0.617374  \n",
       "max        1.000000       1.000000  "
      ],
      "text/html": "<div>\n<style scoped>\n    .dataframe tbody tr th:only-of-type {\n        vertical-align: middle;\n    }\n\n    .dataframe tbody tr th {\n        vertical-align: top;\n    }\n\n    .dataframe thead th {\n        text-align: right;\n    }\n</style>\n<table border=\"1\" class=\"dataframe\">\n  <thead>\n    <tr style=\"text-align: right;\">\n      <th></th>\n      <th>tiene_parqueo_bicicletas</th>\n      <th>parqueo</th>\n      <th>rango_precios</th>\n      <th>acepta_tarjeta_credito</th>\n      <th>abierto_24_horas</th>\n      <th>week_days</th>\n      <th>metrica_exito</th>\n      <th>weekend_days</th>\n      <th>metrica_exito</th>\n    </tr>\n  </thead>\n  <tbody>\n    <tr>\n      <th>count</th>\n      <td>3773.000000</td>\n      <td>3773.000000</td>\n      <td>3773.000000</td>\n      <td>3773.000000</td>\n      <td>3773.000000</td>\n      <td>3773.000000</td>\n      <td>3773.000000</td>\n      <td>3773.000000</td>\n      <td>3773.000000</td>\n    </tr>\n    <tr>\n      <th>mean</th>\n      <td>0.751391</td>\n      <td>0.169626</td>\n      <td>2.077922</td>\n      <td>0.991254</td>\n      <td>0.022263</td>\n      <td>0.997350</td>\n      <td>0.526419</td>\n      <td>0.960509</td>\n      <td>0.526419</td>\n    </tr>\n    <tr>\n      <th>std</th>\n      <td>0.432264</td>\n      <td>0.375354</td>\n      <td>0.698258</td>\n      <td>0.093124</td>\n      <td>0.147559</td>\n      <td>0.051421</td>\n      <td>0.146538</td>\n      <td>0.194786</td>\n      <td>0.146538</td>\n    </tr>\n    <tr>\n      <th>min</th>\n      <td>0.000000</td>\n      <td>0.000000</td>\n      <td>1.000000</td>\n      <td>0.000000</td>\n      <td>0.000000</td>\n      <td>0.000000</td>\n      <td>0.000000</td>\n      <td>0.000000</td>\n      <td>0.000000</td>\n    </tr>\n    <tr>\n      <th>25%</th>\n      <td>1.000000</td>\n      <td>0.000000</td>\n      <td>2.000000</td>\n      <td>1.000000</td>\n      <td>0.000000</td>\n      <td>1.000000</td>\n      <td>0.430460</td>\n      <td>1.000000</td>\n      <td>0.430460</td>\n    </tr>\n    <tr>\n      <th>50%</th>\n      <td>1.000000</td>\n      <td>0.000000</td>\n      <td>2.000000</td>\n      <td>1.000000</td>\n      <td>0.000000</td>\n      <td>1.000000</td>\n      <td>0.530690</td>\n      <td>1.000000</td>\n      <td>0.530690</td>\n    </tr>\n    <tr>\n      <th>75%</th>\n      <td>1.000000</td>\n      <td>0.000000</td>\n      <td>2.000000</td>\n      <td>1.000000</td>\n      <td>0.000000</td>\n      <td>1.000000</td>\n      <td>0.617374</td>\n      <td>1.000000</td>\n      <td>0.617374</td>\n    </tr>\n    <tr>\n      <th>max</th>\n      <td>1.000000</td>\n      <td>1.000000</td>\n      <td>4.000000</td>\n      <td>1.000000</td>\n      <td>1.000000</td>\n      <td>1.000000</td>\n      <td>1.000000</td>\n      <td>1.000000</td>\n      <td>1.000000</td>\n    </tr>\n  </tbody>\n</table>\n</div>"
     },
     "metadata": {},
     "execution_count": 46
    }
   ],
   "source": [
    "p_df[p_df.index.isin(eliminados)].describe()"
   ]
  },
  {
   "cell_type": "code",
   "execution_count": 50,
   "metadata": {},
   "outputs": [
    {
     "output_type": "stream",
     "name": "stdout",
     "text": [
      "anyio==2.2.0\n",
      "appdirs==1.4.4\n",
      "argon2-cffi==20.1.0\n",
      "astroid==2.5.1\n",
      "async-generator==1.10\n",
      "attrs==20.3.0\n",
      "autopep8==1.5.5\n",
      "Babel==2.9.0\n",
      "backcall==0.2.0\n",
      "bleach==3.3.0\n",
      "certifi==2020.12.5\n",
      "cffi==1.14.5\n",
      "chardet==4.0.0\n",
      "click==7.1.2\n",
      "colorama==0.4.4\n",
      "Note: you may need to restart the kernel to use updated packages.CVXcanon==0.1.2\n",
      "WARNING: Could not generate requirement for distribution -vxpy 1.1.11 (c:\\users\\caloja\\appdata\\local\\programs\\python\\python37\\lib\\site-packages): Parse error at \"'-vxpy==1'\": Expected W:(abcd...)\n",
      "WARNING: Could not generate requirement for distribution -vxcanon 0.1.2 (c:\\users\\caloja\\appdata\\local\\programs\\python\\python37\\lib\\site-packages): Parse error at \"'-vxcanon'\": Expected W:(abcd...)\n",
      "\n",
      "cvxopt==1.2.6\n",
      "cvxpy==1.1.11\n",
      "cycler==0.10.0\n",
      "decorator==4.4.2\n",
      "defusedxml==0.7.1\n",
      "dill==0.3.3\n",
      "distlib==0.3.1\n",
      "ecos==2.0.7.post1\n",
      "entrypoints==0.3\n",
      "fastcache==1.1.0\n",
      "filelock==3.0.12\n",
      "flake8==3.8.4\n",
      "future==0.18.2\n",
      "GLRM==0.0.1\n",
      "h2o==3.32.0.4\n",
      "idna==2.10\n",
      "importlib-metadata==3.7.2\n",
      "ipykernel==5.5.0\n",
      "ipympl==0.6.3\n",
      "ipyparallel==6.3.0\n",
      "ipython==7.21.0\n",
      "ipython-genutils==0.2.0\n",
      "ipywidgets==7.6.3\n",
      "isort==5.7.0\n",
      "jedi==0.17.2\n",
      "Jinja2==2.11.3\n",
      "joblib==1.0.1\n",
      "json5==0.9.5\n",
      "jsonschema==3.2.0\n",
      "jupyter==1.0.0\n",
      "jupyter-client==6.1.11\n",
      "jupyter-console==6.2.0\n",
      "jupyter-contrib-core==0.3.3\n",
      "jupyter-contrib-nbextensions==0.5.1\n",
      "jupyter-core==4.7.1\n",
      "jupyter-highlight-selected-word==0.2.0\n",
      "jupyter-latex-envs==1.4.6\n",
      "jupyter-lsp==1.1.4\n",
      "jupyter-nbextensions-configurator==0.4.1\n",
      "jupyter-packaging==0.7.12\n",
      "jupyter-server==1.4.1\n",
      "jupyterlab==3.0.10\n",
      "jupyterlab-lsp==3.4.1\n",
      "jupyterlab-pygments==0.1.2\n",
      "jupyterlab-server==2.3.0\n",
      "jupyterlab-widgets==1.0.0\n",
      "kiwisolver==1.3.1\n",
      "kmodes==0.11.0\n",
      "lazy-object-proxy==1.5.2\n",
      "lxml==4.6.2\n",
      "MarkupSafe==1.1.1\n",
      "matplotlib==3.3.4\n",
      "mccabe==0.6.1\n",
      "mistune==0.8.4\n",
      "mlxtend==0.18.0\n",
      "multiprocess==0.70.11.1\n",
      "mysql-connector-python==8.0.23\n",
      "nbclassic==0.2.6\n",
      "nbclient==0.5.3\n",
      "nbconvert==6.0.7\n",
      "nbformat==5.1.2\n",
      "nest-asyncio==1.5.1\n",
      "nltk==3.5\n",
      "nodejs==0.1.1\n",
      "notebook==6.2.0\n",
      "numpy==1.19.5\n",
      "oauthlib==3.1.0\n",
      "optional-django==0.1.0\n",
      "osqp==0.6.2.post0\n",
      "packaging==20.9\n",
      "pandas==1.2.3\n",
      "pandocfilters==1.4.3\n",
      "parso==0.7.1\n",
      "patsy==0.5.1\n",
      "pbr==5.5.1\n",
      "pickleshare==0.7.5\n",
      "Pillow==8.1.2\n",
      "pluggy==0.13.1\n",
      "prometheus-client==0.9.0\n",
      "prompt-toolkit==3.0.16\n",
      "protobuf==3.15.5\n",
      "pycodestyle==2.6.0\n",
      "pycosat==0.6.3\n",
      "pycparser==2.20\n",
      "pydocstyle==5.1.1\n",
      "pyflakes==2.2.0\n",
      "Pygments==2.8.1\n",
      "pylint==2.7.2\n",
      "pyparsing==2.4.7\n",
      "pyrsistent==0.17.3\n",
      "PySocks==1.7.1\n",
      "python-dateutil==2.8.1\n",
      "python-jsonrpc-server==0.4.0\n",
      "python-language-server==0.36.2\n",
      "pytz==2021.1\n",
      "pywin32==300\n",
      "pywinpty==0.5.7\n",
      "PyYAML==5.4.1\n",
      "pyzmq==22.0.3\n",
      "qdldl==0.1.5.post0\n",
      "qtconsole==5.0.2\n",
      "QtPy==1.9.0\n",
      "regex==2020.11.13\n",
      "requests==2.25.1\n",
      "requests-oauthlib==1.3.0\n",
      "rope==0.18.0\n",
      "scikit-learn==0.24.1\n",
      "scipy==1.6.1\n",
      "scs==2.1.2\n",
      "seaborn==0.11.1\n",
      "Send2Trash==1.5.0\n",
      "six==1.15.0\n",
      "sklearn==0.0\n",
      "sniffio==1.2.0\n",
      "snowballstemmer==2.1.0\n",
      "statsmodels==0.12.2\n",
      "stevedore==3.3.0\n",
      "tabulate==0.8.9\n",
      "terminado==0.9.2\n",
      "testpath==0.4.4\n",
      "textblob==0.15.3\n",
      "threadpoolctl==2.1.0\n",
      "toml==0.10.2\n",
      "toolz==0.11.1\n",
      "tornado==6.1\n",
      "tqdm==4.59.0\n",
      "traitlets==5.0.5\n",
      "tweepy==3.10.0\n",
      "typed-ast==1.4.2\n",
      "typing-extensions==3.7.4.3\n",
      "ujson==4.0.2\n",
      "urllib3==1.26.3\n",
      "virtualenv==20.4.2\n",
      "virtualenv-clone==0.5.4\n",
      "virtualenvwrapper==4.8.4\n",
      "wcwidth==0.2.5\n",
      "webencodings==0.5.1\n",
      "widgetsnbextension==3.5.1\n",
      "wrapt==1.12.1\n",
      "xgboost==1.3.3\n",
      "yapf==0.30.0\n",
      "yellowbrick==1.3.post1\n",
      "zipp==3.4.1\n"
     ]
    }
   ],
   "source": [
    "pip freeze"
   ]
  },
  {
   "cell_type": "code",
   "execution_count": null,
   "metadata": {},
   "outputs": [],
   "source": []
  }
 ],
 "metadata": {
  "kernelspec": {
   "name": "python3",
   "display_name": "Python 3.7.9 64-bit",
   "metadata": {
    "interpreter": {
     "hash": "0cb26f21c0e9bb160d8123a8621fa5b4a8e5b54249a72700ba67dac29f26d1f5"
    }
   }
  },
  "language_info": {
   "codemirror_mode": {
    "name": "ipython",
    "version": 3
   },
   "file_extension": ".py",
   "mimetype": "text/x-python",
   "name": "python",
   "nbconvert_exporter": "python",
   "pygments_lexer": "ipython3",
   "version": "3.7.9-final"
  }
 },
 "nbformat": 4,
 "nbformat_minor": 4
}